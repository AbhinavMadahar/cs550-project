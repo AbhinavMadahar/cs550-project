{
 "metadata": {
  "language_info": {
   "codemirror_mode": {
    "name": "ipython",
    "version": 3
   },
   "file_extension": ".py",
   "mimetype": "text/x-python",
   "name": "python",
   "nbconvert_exporter": "python",
   "pygments_lexer": "ipython3",
   "version": "3.8.6"
  },
  "orig_nbformat": 2,
  "kernelspec": {
   "name": "python386jvsc74a57bd0ae0f7d9b8820fe474c7edde94553f0cf73c02b89f079e79ddcefee8a7ce29cb0",
   "display_name": "Python 3.8.6 64-bit"
  }
 },
 "nbformat": 4,
 "nbformat_minor": 2,
 "cells": [
  {
   "cell_type": "code",
   "execution_count": 1,
   "metadata": {},
   "outputs": [],
   "source": [
    "%matplotlib inline\n",
    "import pandas as pd \n",
    "import numpy as np\n",
    "import matplotlib.pyplot as plt\n",
    "import seaborn as sns\n",
    "from scipy import stats\n",
    "from ast import literal_eval\n",
    "from sklearn.feature_extraction.text import TfidfVectorizer, CountVectorizer\n",
    "from sklearn.metrics.pairwise import linear_kernel, cosine_similarity\n",
    "from nltk.stem.snowball import SnowballStemmer\n",
    "from nltk.stem.wordnet import WordNetLemmatizer\n",
    "from nltk.corpus import wordnet\n",
    "from surprise import Reader, Dataset, SVD\n",
    "from surprise.model_selection import cross_validate\n",
    "\n",
    "\n",
    "import warnings; warnings.simplefilter('ignore')\n"
   ]
  },
  {
   "cell_type": "code",
   "execution_count": 2,
   "metadata": {},
   "outputs": [
    {
     "output_type": "execute_result",
     "data": {
      "text/plain": [
       "   adult                              belongs_to_collection    budget  \\\n",
       "0  False  {'id': 10194, 'name': 'Toy Story Collection', ...  30000000   \n",
       "1  False                                                NaN  65000000   \n",
       "2  False  {'id': 119050, 'name': 'Grumpy Old Men Collect...         0   \n",
       "3  False                                                NaN  16000000   \n",
       "4  False  {'id': 96871, 'name': 'Father of the Bride Col...         0   \n",
       "\n",
       "                                              genres  \\\n",
       "0  [{'id': 16, 'name': 'Animation'}, {'id': 35, '...   \n",
       "1  [{'id': 12, 'name': 'Adventure'}, {'id': 14, '...   \n",
       "2  [{'id': 10749, 'name': 'Romance'}, {'id': 35, ...   \n",
       "3  [{'id': 35, 'name': 'Comedy'}, {'id': 18, 'nam...   \n",
       "4                     [{'id': 35, 'name': 'Comedy'}]   \n",
       "\n",
       "                               homepage     id    imdb_id original_language  \\\n",
       "0  http://toystory.disney.com/toy-story    862  tt0114709                en   \n",
       "1                                   NaN   8844  tt0113497                en   \n",
       "2                                   NaN  15602  tt0113228                en   \n",
       "3                                   NaN  31357  tt0114885                en   \n",
       "4                                   NaN  11862  tt0113041                en   \n",
       "\n",
       "                original_title  \\\n",
       "0                    Toy Story   \n",
       "1                      Jumanji   \n",
       "2             Grumpier Old Men   \n",
       "3            Waiting to Exhale   \n",
       "4  Father of the Bride Part II   \n",
       "\n",
       "                                            overview  ... release_date  \\\n",
       "0  Led by Woody, Andy's toys live happily in his ...  ...   1995-10-30   \n",
       "1  When siblings Judy and Peter discover an encha...  ...   1995-12-15   \n",
       "2  A family wedding reignites the ancient feud be...  ...   1995-12-22   \n",
       "3  Cheated on, mistreated and stepped on, the wom...  ...   1995-12-22   \n",
       "4  Just when George Banks has recovered from his ...  ...   1995-02-10   \n",
       "\n",
       "       revenue runtime                                   spoken_languages  \\\n",
       "0  373554033.0    81.0           [{'iso_639_1': 'en', 'name': 'English'}]   \n",
       "1  262797249.0   104.0  [{'iso_639_1': 'en', 'name': 'English'}, {'iso...   \n",
       "2          0.0   101.0           [{'iso_639_1': 'en', 'name': 'English'}]   \n",
       "3   81452156.0   127.0           [{'iso_639_1': 'en', 'name': 'English'}]   \n",
       "4   76578911.0   106.0           [{'iso_639_1': 'en', 'name': 'English'}]   \n",
       "\n",
       "     status                                            tagline  \\\n",
       "0  Released                                                NaN   \n",
       "1  Released          Roll the dice and unleash the excitement!   \n",
       "2  Released  Still Yelling. Still Fighting. Still Ready for...   \n",
       "3  Released  Friends are the people who let you be yourself...   \n",
       "4  Released  Just When His World Is Back To Normal... He's ...   \n",
       "\n",
       "                         title  video vote_average vote_count  \n",
       "0                    Toy Story  False          7.7     5415.0  \n",
       "1                      Jumanji  False          6.9     2413.0  \n",
       "2             Grumpier Old Men  False          6.5       92.0  \n",
       "3            Waiting to Exhale  False          6.1       34.0  \n",
       "4  Father of the Bride Part II  False          5.7      173.0  \n",
       "\n",
       "[5 rows x 24 columns]"
      ],
      "text/html": "<div>\n<style scoped>\n    .dataframe tbody tr th:only-of-type {\n        vertical-align: middle;\n    }\n\n    .dataframe tbody tr th {\n        vertical-align: top;\n    }\n\n    .dataframe thead th {\n        text-align: right;\n    }\n</style>\n<table border=\"1\" class=\"dataframe\">\n  <thead>\n    <tr style=\"text-align: right;\">\n      <th></th>\n      <th>adult</th>\n      <th>belongs_to_collection</th>\n      <th>budget</th>\n      <th>genres</th>\n      <th>homepage</th>\n      <th>id</th>\n      <th>imdb_id</th>\n      <th>original_language</th>\n      <th>original_title</th>\n      <th>overview</th>\n      <th>...</th>\n      <th>release_date</th>\n      <th>revenue</th>\n      <th>runtime</th>\n      <th>spoken_languages</th>\n      <th>status</th>\n      <th>tagline</th>\n      <th>title</th>\n      <th>video</th>\n      <th>vote_average</th>\n      <th>vote_count</th>\n    </tr>\n  </thead>\n  <tbody>\n    <tr>\n      <th>0</th>\n      <td>False</td>\n      <td>{'id': 10194, 'name': 'Toy Story Collection', ...</td>\n      <td>30000000</td>\n      <td>[{'id': 16, 'name': 'Animation'}, {'id': 35, '...</td>\n      <td>http://toystory.disney.com/toy-story</td>\n      <td>862</td>\n      <td>tt0114709</td>\n      <td>en</td>\n      <td>Toy Story</td>\n      <td>Led by Woody, Andy's toys live happily in his ...</td>\n      <td>...</td>\n      <td>1995-10-30</td>\n      <td>373554033.0</td>\n      <td>81.0</td>\n      <td>[{'iso_639_1': 'en', 'name': 'English'}]</td>\n      <td>Released</td>\n      <td>NaN</td>\n      <td>Toy Story</td>\n      <td>False</td>\n      <td>7.7</td>\n      <td>5415.0</td>\n    </tr>\n    <tr>\n      <th>1</th>\n      <td>False</td>\n      <td>NaN</td>\n      <td>65000000</td>\n      <td>[{'id': 12, 'name': 'Adventure'}, {'id': 14, '...</td>\n      <td>NaN</td>\n      <td>8844</td>\n      <td>tt0113497</td>\n      <td>en</td>\n      <td>Jumanji</td>\n      <td>When siblings Judy and Peter discover an encha...</td>\n      <td>...</td>\n      <td>1995-12-15</td>\n      <td>262797249.0</td>\n      <td>104.0</td>\n      <td>[{'iso_639_1': 'en', 'name': 'English'}, {'iso...</td>\n      <td>Released</td>\n      <td>Roll the dice and unleash the excitement!</td>\n      <td>Jumanji</td>\n      <td>False</td>\n      <td>6.9</td>\n      <td>2413.0</td>\n    </tr>\n    <tr>\n      <th>2</th>\n      <td>False</td>\n      <td>{'id': 119050, 'name': 'Grumpy Old Men Collect...</td>\n      <td>0</td>\n      <td>[{'id': 10749, 'name': 'Romance'}, {'id': 35, ...</td>\n      <td>NaN</td>\n      <td>15602</td>\n      <td>tt0113228</td>\n      <td>en</td>\n      <td>Grumpier Old Men</td>\n      <td>A family wedding reignites the ancient feud be...</td>\n      <td>...</td>\n      <td>1995-12-22</td>\n      <td>0.0</td>\n      <td>101.0</td>\n      <td>[{'iso_639_1': 'en', 'name': 'English'}]</td>\n      <td>Released</td>\n      <td>Still Yelling. Still Fighting. Still Ready for...</td>\n      <td>Grumpier Old Men</td>\n      <td>False</td>\n      <td>6.5</td>\n      <td>92.0</td>\n    </tr>\n    <tr>\n      <th>3</th>\n      <td>False</td>\n      <td>NaN</td>\n      <td>16000000</td>\n      <td>[{'id': 35, 'name': 'Comedy'}, {'id': 18, 'nam...</td>\n      <td>NaN</td>\n      <td>31357</td>\n      <td>tt0114885</td>\n      <td>en</td>\n      <td>Waiting to Exhale</td>\n      <td>Cheated on, mistreated and stepped on, the wom...</td>\n      <td>...</td>\n      <td>1995-12-22</td>\n      <td>81452156.0</td>\n      <td>127.0</td>\n      <td>[{'iso_639_1': 'en', 'name': 'English'}]</td>\n      <td>Released</td>\n      <td>Friends are the people who let you be yourself...</td>\n      <td>Waiting to Exhale</td>\n      <td>False</td>\n      <td>6.1</td>\n      <td>34.0</td>\n    </tr>\n    <tr>\n      <th>4</th>\n      <td>False</td>\n      <td>{'id': 96871, 'name': 'Father of the Bride Col...</td>\n      <td>0</td>\n      <td>[{'id': 35, 'name': 'Comedy'}]</td>\n      <td>NaN</td>\n      <td>11862</td>\n      <td>tt0113041</td>\n      <td>en</td>\n      <td>Father of the Bride Part II</td>\n      <td>Just when George Banks has recovered from his ...</td>\n      <td>...</td>\n      <td>1995-02-10</td>\n      <td>76578911.0</td>\n      <td>106.0</td>\n      <td>[{'iso_639_1': 'en', 'name': 'English'}]</td>\n      <td>Released</td>\n      <td>Just When His World Is Back To Normal... He's ...</td>\n      <td>Father of the Bride Part II</td>\n      <td>False</td>\n      <td>5.7</td>\n      <td>173.0</td>\n    </tr>\n  </tbody>\n</table>\n<p>5 rows × 24 columns</p>\n</div>"
     },
     "metadata": {},
     "execution_count": 2
    }
   ],
   "source": [
    "md = pd.read_csv('Data_Files//movies_metadata.csv')\n",
    "md.head()"
   ]
  },
  {
   "cell_type": "code",
   "execution_count": 3,
   "metadata": {},
   "outputs": [],
   "source": [
    "md['genres'] = md['genres'].fillna('[]').apply(literal_eval).apply(lambda x: [i['name'] for i in x] if isinstance(x, list) else [])"
   ]
  },
  {
   "cell_type": "code",
   "execution_count": 4,
   "metadata": {},
   "outputs": [
    {
     "output_type": "execute_result",
     "data": {
      "text/plain": [
       "0         [Animation, Comedy, Family]\n",
       "1        [Adventure, Fantasy, Family]\n",
       "2                   [Romance, Comedy]\n",
       "3            [Comedy, Drama, Romance]\n",
       "4                            [Comedy]\n",
       "                     ...             \n",
       "45461                 [Drama, Family]\n",
       "45462                         [Drama]\n",
       "45463       [Action, Drama, Thriller]\n",
       "45464                              []\n",
       "45465                              []\n",
       "Name: genres, Length: 45466, dtype: object"
      ]
     },
     "metadata": {},
     "execution_count": 4
    }
   ],
   "source": [
    "md['genres']"
   ]
  },
  {
   "cell_type": "code",
   "execution_count": 5,
   "metadata": {},
   "outputs": [],
   "source": [
    "# ans = md['genres'].fillna('[]').apply(literal_eval)"
   ]
  },
  {
   "cell_type": "code",
   "execution_count": 6,
   "metadata": {},
   "outputs": [],
   "source": [
    "# ans[0]"
   ]
  },
  {
   "cell_type": "code",
   "execution_count": 7,
   "metadata": {},
   "outputs": [
    {
     "output_type": "execute_result",
     "data": {
      "text/plain": [
       "5.244896612406511"
      ]
     },
     "metadata": {},
     "execution_count": 7
    }
   ],
   "source": [
    "vote_counts = md[md['vote_count'].notnull()]['vote_count'].astype('int')\n",
    "vote_averages = md[md['vote_average'].notnull()]['vote_average'].astype('int')\n",
    "C = vote_averages.mean()\n",
    "C"
   ]
  },
  {
   "cell_type": "code",
   "execution_count": 8,
   "metadata": {},
   "outputs": [
    {
     "output_type": "execute_result",
     "data": {
      "text/plain": [
       "434.0"
      ]
     },
     "metadata": {},
     "execution_count": 8
    }
   ],
   "source": [
    "m = vote_counts.quantile(0.95)\n",
    "m"
   ]
  },
  {
   "cell_type": "code",
   "execution_count": 9,
   "metadata": {},
   "outputs": [],
   "source": [
    "md['year'] = pd.to_datetime(md['release_date'], errors='coerce').apply(lambda x: str(x).split('-')[0] if x != np.nan else np.nan)"
   ]
  },
  {
   "cell_type": "code",
   "execution_count": 10,
   "metadata": {},
   "outputs": [
    {
     "output_type": "execute_result",
     "data": {
      "text/plain": [
       "0        1995\n",
       "1        1995\n",
       "2        1995\n",
       "3        1995\n",
       "4        1995\n",
       "         ... \n",
       "45461     NaT\n",
       "45462    2011\n",
       "45463    2003\n",
       "45464    1917\n",
       "45465    2017\n",
       "Name: year, Length: 45466, dtype: object"
      ]
     },
     "metadata": {},
     "execution_count": 10
    }
   ],
   "source": [
    "md['year']"
   ]
  },
  {
   "cell_type": "code",
   "execution_count": 11,
   "metadata": {},
   "outputs": [
    {
     "output_type": "execute_result",
     "data": {
      "text/plain": [
       "(2274, 6)"
      ]
     },
     "metadata": {},
     "execution_count": 11
    }
   ],
   "source": [
    "qualified = md[(md['vote_count'] >= m) & (md['vote_count'].notnull()) & (md['vote_average'].notnull())][['title', 'year', 'vote_count', 'vote_average', 'popularity', 'genres']]\n",
    "qualified['vote_count'] = qualified['vote_count'].astype('int')\n",
    "qualified['vote_average'] = qualified['vote_average'].astype('int')\n",
    "qualified.shape"
   ]
  },
  {
   "cell_type": "code",
   "execution_count": 12,
   "metadata": {},
   "outputs": [],
   "source": [
    "def weighted_rating(x):\n",
    "    v = x['vote_count']\n",
    "    R = x['vote_average']\n",
    "    return (v/(v+m) * R) + (m/(m+v) * C)"
   ]
  },
  {
   "cell_type": "code",
   "execution_count": 13,
   "metadata": {},
   "outputs": [
    {
     "output_type": "execute_result",
     "data": {
      "text/plain": [
       "                                                   title  year  vote_count  \\\n",
       "15480                                          Inception  2010       14075   \n",
       "12481                                    The Dark Knight  2008       12269   \n",
       "22879                                       Interstellar  2014       11187   \n",
       "2843                                          Fight Club  1999        9678   \n",
       "4863   The Lord of the Rings: The Fellowship of the Ring  2001        8892   \n",
       "...                                                  ...   ...         ...   \n",
       "2006                Indiana Jones and the Temple of Doom  1984        2841   \n",
       "16129                                  The King's Speech  2010        2817   \n",
       "895                                     Sunset Boulevard  1950         533   \n",
       "9888                                            Sin City  2005        2755   \n",
       "16833                                        Source Code  2011        2752   \n",
       "\n",
       "       vote_average  popularity  \\\n",
       "15480             8   29.108149   \n",
       "12481             8  123.167259   \n",
       "22879             8   32.213481   \n",
       "2843              8   63.869599   \n",
       "4863              8   32.070725   \n",
       "...             ...         ...   \n",
       "2006              7   15.802306   \n",
       "16129             7   11.260387   \n",
       "895               8   11.709777   \n",
       "9888              7   15.010525   \n",
       "16833             7    9.796962   \n",
       "\n",
       "                                                  genres        wr  \n",
       "15480  [Action, Thriller, Science Fiction, Mystery, A...  7.917588  \n",
       "12481                   [Drama, Action, Crime, Thriller]  7.905871  \n",
       "22879                [Adventure, Drama, Science Fiction]  7.897107  \n",
       "2843                                             [Drama]  7.881753  \n",
       "4863                        [Adventure, Fantasy, Action]  7.871787  \n",
       "...                                                  ...       ...  \n",
       "2006                                 [Adventure, Action]  6.767415  \n",
       "16129                                   [Drama, History]  6.765698  \n",
       "895                                              [Drama]  6.763480  \n",
       "9888                           [Action, Thriller, Crime]  6.761143  \n",
       "16833               [Thriller, Science Fiction, Mystery]  6.760918  \n",
       "\n",
       "[250 rows x 7 columns]"
      ],
      "text/html": "<div>\n<style scoped>\n    .dataframe tbody tr th:only-of-type {\n        vertical-align: middle;\n    }\n\n    .dataframe tbody tr th {\n        vertical-align: top;\n    }\n\n    .dataframe thead th {\n        text-align: right;\n    }\n</style>\n<table border=\"1\" class=\"dataframe\">\n  <thead>\n    <tr style=\"text-align: right;\">\n      <th></th>\n      <th>title</th>\n      <th>year</th>\n      <th>vote_count</th>\n      <th>vote_average</th>\n      <th>popularity</th>\n      <th>genres</th>\n      <th>wr</th>\n    </tr>\n  </thead>\n  <tbody>\n    <tr>\n      <th>15480</th>\n      <td>Inception</td>\n      <td>2010</td>\n      <td>14075</td>\n      <td>8</td>\n      <td>29.108149</td>\n      <td>[Action, Thriller, Science Fiction, Mystery, A...</td>\n      <td>7.917588</td>\n    </tr>\n    <tr>\n      <th>12481</th>\n      <td>The Dark Knight</td>\n      <td>2008</td>\n      <td>12269</td>\n      <td>8</td>\n      <td>123.167259</td>\n      <td>[Drama, Action, Crime, Thriller]</td>\n      <td>7.905871</td>\n    </tr>\n    <tr>\n      <th>22879</th>\n      <td>Interstellar</td>\n      <td>2014</td>\n      <td>11187</td>\n      <td>8</td>\n      <td>32.213481</td>\n      <td>[Adventure, Drama, Science Fiction]</td>\n      <td>7.897107</td>\n    </tr>\n    <tr>\n      <th>2843</th>\n      <td>Fight Club</td>\n      <td>1999</td>\n      <td>9678</td>\n      <td>8</td>\n      <td>63.869599</td>\n      <td>[Drama]</td>\n      <td>7.881753</td>\n    </tr>\n    <tr>\n      <th>4863</th>\n      <td>The Lord of the Rings: The Fellowship of the Ring</td>\n      <td>2001</td>\n      <td>8892</td>\n      <td>8</td>\n      <td>32.070725</td>\n      <td>[Adventure, Fantasy, Action]</td>\n      <td>7.871787</td>\n    </tr>\n    <tr>\n      <th>...</th>\n      <td>...</td>\n      <td>...</td>\n      <td>...</td>\n      <td>...</td>\n      <td>...</td>\n      <td>...</td>\n      <td>...</td>\n    </tr>\n    <tr>\n      <th>2006</th>\n      <td>Indiana Jones and the Temple of Doom</td>\n      <td>1984</td>\n      <td>2841</td>\n      <td>7</td>\n      <td>15.802306</td>\n      <td>[Adventure, Action]</td>\n      <td>6.767415</td>\n    </tr>\n    <tr>\n      <th>16129</th>\n      <td>The King's Speech</td>\n      <td>2010</td>\n      <td>2817</td>\n      <td>7</td>\n      <td>11.260387</td>\n      <td>[Drama, History]</td>\n      <td>6.765698</td>\n    </tr>\n    <tr>\n      <th>895</th>\n      <td>Sunset Boulevard</td>\n      <td>1950</td>\n      <td>533</td>\n      <td>8</td>\n      <td>11.709777</td>\n      <td>[Drama]</td>\n      <td>6.763480</td>\n    </tr>\n    <tr>\n      <th>9888</th>\n      <td>Sin City</td>\n      <td>2005</td>\n      <td>2755</td>\n      <td>7</td>\n      <td>15.010525</td>\n      <td>[Action, Thriller, Crime]</td>\n      <td>6.761143</td>\n    </tr>\n    <tr>\n      <th>16833</th>\n      <td>Source Code</td>\n      <td>2011</td>\n      <td>2752</td>\n      <td>7</td>\n      <td>9.796962</td>\n      <td>[Thriller, Science Fiction, Mystery]</td>\n      <td>6.760918</td>\n    </tr>\n  </tbody>\n</table>\n<p>250 rows × 7 columns</p>\n</div>"
     },
     "metadata": {},
     "execution_count": 13
    }
   ],
   "source": [
    "qualified['wr'] = qualified.apply(weighted_rating, axis = 1)\n",
    "qualified = qualified.sort_values('wr', ascending=False).head(250)\n",
    "qualified"
   ]
  },
  {
   "cell_type": "code",
   "execution_count": 14,
   "metadata": {},
   "outputs": [],
   "source": [
    "s = md.apply(lambda x: pd.Series(x['genres']),axis=1).stack().reset_index(level=1, drop=True)\n",
    "s.name = 'genre'\n",
    "gen_md = md.drop('genres', axis=1).join(s)"
   ]
  },
  {
   "cell_type": "code",
   "execution_count": 15,
   "metadata": {},
   "outputs": [
    {
     "output_type": "execute_result",
     "data": {
      "text/plain": [
       "       adult                              belongs_to_collection    budget  \\\n",
       "0      False  {'id': 10194, 'name': 'Toy Story Collection', ...  30000000   \n",
       "0      False  {'id': 10194, 'name': 'Toy Story Collection', ...  30000000   \n",
       "0      False  {'id': 10194, 'name': 'Toy Story Collection', ...  30000000   \n",
       "1      False                                                NaN  65000000   \n",
       "1      False                                                NaN  65000000   \n",
       "...      ...                                                ...       ...   \n",
       "45463  False                                                NaN         0   \n",
       "45463  False                                                NaN         0   \n",
       "45463  False                                                NaN         0   \n",
       "45464  False                                                NaN         0   \n",
       "45465  False                                                NaN         0   \n",
       "\n",
       "                                   homepage      id    imdb_id  \\\n",
       "0      http://toystory.disney.com/toy-story     862  tt0114709   \n",
       "0      http://toystory.disney.com/toy-story     862  tt0114709   \n",
       "0      http://toystory.disney.com/toy-story     862  tt0114709   \n",
       "1                                       NaN    8844  tt0113497   \n",
       "1                                       NaN    8844  tt0113497   \n",
       "...                                     ...     ...        ...   \n",
       "45463                                   NaN   67758  tt0303758   \n",
       "45463                                   NaN   67758  tt0303758   \n",
       "45463                                   NaN   67758  tt0303758   \n",
       "45464                                   NaN  227506  tt0008536   \n",
       "45465                                   NaN  461257  tt6980792   \n",
       "\n",
       "      original_language       original_title  \\\n",
       "0                    en            Toy Story   \n",
       "0                    en            Toy Story   \n",
       "0                    en            Toy Story   \n",
       "1                    en              Jumanji   \n",
       "1                    en              Jumanji   \n",
       "...                 ...                  ...   \n",
       "45463                en             Betrayal   \n",
       "45463                en             Betrayal   \n",
       "45463                en             Betrayal   \n",
       "45464                en  Satana likuyushchiy   \n",
       "45465                en             Queerama   \n",
       "\n",
       "                                                overview popularity  ...  \\\n",
       "0      Led by Woody, Andy's toys live happily in his ...  21.946943  ...   \n",
       "0      Led by Woody, Andy's toys live happily in his ...  21.946943  ...   \n",
       "0      Led by Woody, Andy's toys live happily in his ...  21.946943  ...   \n",
       "1      When siblings Judy and Peter discover an encha...  17.015539  ...   \n",
       "1      When siblings Judy and Peter discover an encha...  17.015539  ...   \n",
       "...                                                  ...        ...  ...   \n",
       "45463  When one of her hits goes wrong, a professiona...   0.903007  ...   \n",
       "45463  When one of her hits goes wrong, a professiona...   0.903007  ...   \n",
       "45463  When one of her hits goes wrong, a professiona...   0.903007  ...   \n",
       "45464  In a small town live two brothers, one a minis...   0.003503  ...   \n",
       "45465  50 years after decriminalisation of homosexual...   0.163015  ...   \n",
       "\n",
       "      runtime                                   spoken_languages    status  \\\n",
       "0        81.0           [{'iso_639_1': 'en', 'name': 'English'}]  Released   \n",
       "0        81.0           [{'iso_639_1': 'en', 'name': 'English'}]  Released   \n",
       "0        81.0           [{'iso_639_1': 'en', 'name': 'English'}]  Released   \n",
       "1       104.0  [{'iso_639_1': 'en', 'name': 'English'}, {'iso...  Released   \n",
       "1       104.0  [{'iso_639_1': 'en', 'name': 'English'}, {'iso...  Released   \n",
       "...       ...                                                ...       ...   \n",
       "45463    90.0           [{'iso_639_1': 'en', 'name': 'English'}]  Released   \n",
       "45463    90.0           [{'iso_639_1': 'en', 'name': 'English'}]  Released   \n",
       "45463    90.0           [{'iso_639_1': 'en', 'name': 'English'}]  Released   \n",
       "45464    87.0                                                 []  Released   \n",
       "45465    75.0           [{'iso_639_1': 'en', 'name': 'English'}]  Released   \n",
       "\n",
       "                                         tagline             title  video  \\\n",
       "0                                            NaN         Toy Story  False   \n",
       "0                                            NaN         Toy Story  False   \n",
       "0                                            NaN         Toy Story  False   \n",
       "1      Roll the dice and unleash the excitement!           Jumanji  False   \n",
       "1      Roll the dice and unleash the excitement!           Jumanji  False   \n",
       "...                                          ...               ...    ...   \n",
       "45463                     A deadly game of wits.          Betrayal  False   \n",
       "45463                     A deadly game of wits.          Betrayal  False   \n",
       "45463                     A deadly game of wits.          Betrayal  False   \n",
       "45464                                        NaN  Satan Triumphant  False   \n",
       "45465                                        NaN          Queerama  False   \n",
       "\n",
       "      vote_average vote_count  year      genre  \n",
       "0              7.7     5415.0  1995  Animation  \n",
       "0              7.7     5415.0  1995     Comedy  \n",
       "0              7.7     5415.0  1995     Family  \n",
       "1              6.9     2413.0  1995  Adventure  \n",
       "1              6.9     2413.0  1995    Fantasy  \n",
       "...            ...        ...   ...        ...  \n",
       "45463          3.8        6.0  2003     Action  \n",
       "45463          3.8        6.0  2003      Drama  \n",
       "45463          3.8        6.0  2003   Thriller  \n",
       "45464          0.0        0.0  1917        NaN  \n",
       "45465          0.0        0.0  2017        NaN  \n",
       "\n",
       "[93548 rows x 25 columns]"
      ],
      "text/html": "<div>\n<style scoped>\n    .dataframe tbody tr th:only-of-type {\n        vertical-align: middle;\n    }\n\n    .dataframe tbody tr th {\n        vertical-align: top;\n    }\n\n    .dataframe thead th {\n        text-align: right;\n    }\n</style>\n<table border=\"1\" class=\"dataframe\">\n  <thead>\n    <tr style=\"text-align: right;\">\n      <th></th>\n      <th>adult</th>\n      <th>belongs_to_collection</th>\n      <th>budget</th>\n      <th>homepage</th>\n      <th>id</th>\n      <th>imdb_id</th>\n      <th>original_language</th>\n      <th>original_title</th>\n      <th>overview</th>\n      <th>popularity</th>\n      <th>...</th>\n      <th>runtime</th>\n      <th>spoken_languages</th>\n      <th>status</th>\n      <th>tagline</th>\n      <th>title</th>\n      <th>video</th>\n      <th>vote_average</th>\n      <th>vote_count</th>\n      <th>year</th>\n      <th>genre</th>\n    </tr>\n  </thead>\n  <tbody>\n    <tr>\n      <th>0</th>\n      <td>False</td>\n      <td>{'id': 10194, 'name': 'Toy Story Collection', ...</td>\n      <td>30000000</td>\n      <td>http://toystory.disney.com/toy-story</td>\n      <td>862</td>\n      <td>tt0114709</td>\n      <td>en</td>\n      <td>Toy Story</td>\n      <td>Led by Woody, Andy's toys live happily in his ...</td>\n      <td>21.946943</td>\n      <td>...</td>\n      <td>81.0</td>\n      <td>[{'iso_639_1': 'en', 'name': 'English'}]</td>\n      <td>Released</td>\n      <td>NaN</td>\n      <td>Toy Story</td>\n      <td>False</td>\n      <td>7.7</td>\n      <td>5415.0</td>\n      <td>1995</td>\n      <td>Animation</td>\n    </tr>\n    <tr>\n      <th>0</th>\n      <td>False</td>\n      <td>{'id': 10194, 'name': 'Toy Story Collection', ...</td>\n      <td>30000000</td>\n      <td>http://toystory.disney.com/toy-story</td>\n      <td>862</td>\n      <td>tt0114709</td>\n      <td>en</td>\n      <td>Toy Story</td>\n      <td>Led by Woody, Andy's toys live happily in his ...</td>\n      <td>21.946943</td>\n      <td>...</td>\n      <td>81.0</td>\n      <td>[{'iso_639_1': 'en', 'name': 'English'}]</td>\n      <td>Released</td>\n      <td>NaN</td>\n      <td>Toy Story</td>\n      <td>False</td>\n      <td>7.7</td>\n      <td>5415.0</td>\n      <td>1995</td>\n      <td>Comedy</td>\n    </tr>\n    <tr>\n      <th>0</th>\n      <td>False</td>\n      <td>{'id': 10194, 'name': 'Toy Story Collection', ...</td>\n      <td>30000000</td>\n      <td>http://toystory.disney.com/toy-story</td>\n      <td>862</td>\n      <td>tt0114709</td>\n      <td>en</td>\n      <td>Toy Story</td>\n      <td>Led by Woody, Andy's toys live happily in his ...</td>\n      <td>21.946943</td>\n      <td>...</td>\n      <td>81.0</td>\n      <td>[{'iso_639_1': 'en', 'name': 'English'}]</td>\n      <td>Released</td>\n      <td>NaN</td>\n      <td>Toy Story</td>\n      <td>False</td>\n      <td>7.7</td>\n      <td>5415.0</td>\n      <td>1995</td>\n      <td>Family</td>\n    </tr>\n    <tr>\n      <th>1</th>\n      <td>False</td>\n      <td>NaN</td>\n      <td>65000000</td>\n      <td>NaN</td>\n      <td>8844</td>\n      <td>tt0113497</td>\n      <td>en</td>\n      <td>Jumanji</td>\n      <td>When siblings Judy and Peter discover an encha...</td>\n      <td>17.015539</td>\n      <td>...</td>\n      <td>104.0</td>\n      <td>[{'iso_639_1': 'en', 'name': 'English'}, {'iso...</td>\n      <td>Released</td>\n      <td>Roll the dice and unleash the excitement!</td>\n      <td>Jumanji</td>\n      <td>False</td>\n      <td>6.9</td>\n      <td>2413.0</td>\n      <td>1995</td>\n      <td>Adventure</td>\n    </tr>\n    <tr>\n      <th>1</th>\n      <td>False</td>\n      <td>NaN</td>\n      <td>65000000</td>\n      <td>NaN</td>\n      <td>8844</td>\n      <td>tt0113497</td>\n      <td>en</td>\n      <td>Jumanji</td>\n      <td>When siblings Judy and Peter discover an encha...</td>\n      <td>17.015539</td>\n      <td>...</td>\n      <td>104.0</td>\n      <td>[{'iso_639_1': 'en', 'name': 'English'}, {'iso...</td>\n      <td>Released</td>\n      <td>Roll the dice and unleash the excitement!</td>\n      <td>Jumanji</td>\n      <td>False</td>\n      <td>6.9</td>\n      <td>2413.0</td>\n      <td>1995</td>\n      <td>Fantasy</td>\n    </tr>\n    <tr>\n      <th>...</th>\n      <td>...</td>\n      <td>...</td>\n      <td>...</td>\n      <td>...</td>\n      <td>...</td>\n      <td>...</td>\n      <td>...</td>\n      <td>...</td>\n      <td>...</td>\n      <td>...</td>\n      <td>...</td>\n      <td>...</td>\n      <td>...</td>\n      <td>...</td>\n      <td>...</td>\n      <td>...</td>\n      <td>...</td>\n      <td>...</td>\n      <td>...</td>\n      <td>...</td>\n      <td>...</td>\n    </tr>\n    <tr>\n      <th>45463</th>\n      <td>False</td>\n      <td>NaN</td>\n      <td>0</td>\n      <td>NaN</td>\n      <td>67758</td>\n      <td>tt0303758</td>\n      <td>en</td>\n      <td>Betrayal</td>\n      <td>When one of her hits goes wrong, a professiona...</td>\n      <td>0.903007</td>\n      <td>...</td>\n      <td>90.0</td>\n      <td>[{'iso_639_1': 'en', 'name': 'English'}]</td>\n      <td>Released</td>\n      <td>A deadly game of wits.</td>\n      <td>Betrayal</td>\n      <td>False</td>\n      <td>3.8</td>\n      <td>6.0</td>\n      <td>2003</td>\n      <td>Action</td>\n    </tr>\n    <tr>\n      <th>45463</th>\n      <td>False</td>\n      <td>NaN</td>\n      <td>0</td>\n      <td>NaN</td>\n      <td>67758</td>\n      <td>tt0303758</td>\n      <td>en</td>\n      <td>Betrayal</td>\n      <td>When one of her hits goes wrong, a professiona...</td>\n      <td>0.903007</td>\n      <td>...</td>\n      <td>90.0</td>\n      <td>[{'iso_639_1': 'en', 'name': 'English'}]</td>\n      <td>Released</td>\n      <td>A deadly game of wits.</td>\n      <td>Betrayal</td>\n      <td>False</td>\n      <td>3.8</td>\n      <td>6.0</td>\n      <td>2003</td>\n      <td>Drama</td>\n    </tr>\n    <tr>\n      <th>45463</th>\n      <td>False</td>\n      <td>NaN</td>\n      <td>0</td>\n      <td>NaN</td>\n      <td>67758</td>\n      <td>tt0303758</td>\n      <td>en</td>\n      <td>Betrayal</td>\n      <td>When one of her hits goes wrong, a professiona...</td>\n      <td>0.903007</td>\n      <td>...</td>\n      <td>90.0</td>\n      <td>[{'iso_639_1': 'en', 'name': 'English'}]</td>\n      <td>Released</td>\n      <td>A deadly game of wits.</td>\n      <td>Betrayal</td>\n      <td>False</td>\n      <td>3.8</td>\n      <td>6.0</td>\n      <td>2003</td>\n      <td>Thriller</td>\n    </tr>\n    <tr>\n      <th>45464</th>\n      <td>False</td>\n      <td>NaN</td>\n      <td>0</td>\n      <td>NaN</td>\n      <td>227506</td>\n      <td>tt0008536</td>\n      <td>en</td>\n      <td>Satana likuyushchiy</td>\n      <td>In a small town live two brothers, one a minis...</td>\n      <td>0.003503</td>\n      <td>...</td>\n      <td>87.0</td>\n      <td>[]</td>\n      <td>Released</td>\n      <td>NaN</td>\n      <td>Satan Triumphant</td>\n      <td>False</td>\n      <td>0.0</td>\n      <td>0.0</td>\n      <td>1917</td>\n      <td>NaN</td>\n    </tr>\n    <tr>\n      <th>45465</th>\n      <td>False</td>\n      <td>NaN</td>\n      <td>0</td>\n      <td>NaN</td>\n      <td>461257</td>\n      <td>tt6980792</td>\n      <td>en</td>\n      <td>Queerama</td>\n      <td>50 years after decriminalisation of homosexual...</td>\n      <td>0.163015</td>\n      <td>...</td>\n      <td>75.0</td>\n      <td>[{'iso_639_1': 'en', 'name': 'English'}]</td>\n      <td>Released</td>\n      <td>NaN</td>\n      <td>Queerama</td>\n      <td>False</td>\n      <td>0.0</td>\n      <td>0.0</td>\n      <td>2017</td>\n      <td>NaN</td>\n    </tr>\n  </tbody>\n</table>\n<p>93548 rows × 25 columns</p>\n</div>"
     },
     "metadata": {},
     "execution_count": 15
    }
   ],
   "source": [
    "gen_md"
   ]
  },
  {
   "cell_type": "code",
   "execution_count": 16,
   "metadata": {},
   "outputs": [],
   "source": [
    "def build_chart(genre, percentile=0.85):\n",
    "    df = gen_md[gen_md['genre'] == genre]\n",
    "    vote_counts = df[df['vote_count'].notnull()]['vote_count'].astype('int')\n",
    "    vote_averages = df[df['vote_average'].notnull()]['vote_average'].astype('int')\n",
    "    C = vote_averages.mean()\n",
    "    m = vote_counts.quantile(percentile)\n",
    "    \n",
    "    qualified = df[(df['vote_count'] >= m) & (df['vote_count'].notnull()) & (df['vote_average'].notnull())][['title', 'year', 'vote_count', 'vote_average', 'popularity']]\n",
    "    qualified['vote_count'] = qualified['vote_count'].astype('int')\n",
    "    qualified['vote_average'] = qualified['vote_average'].astype('int')\n",
    "    \n",
    "    qualified['wr'] = qualified.apply(lambda x: (x['vote_count']/(x['vote_count']+m) * x['vote_average']) + (m/(m+x['vote_count']) * C), axis=1)\n",
    "    qualified = qualified.sort_values('wr', ascending=False).head(250)\n",
    "    \n",
    "    return qualified"
   ]
  },
  {
   "cell_type": "code",
   "execution_count": 17,
   "metadata": {},
   "outputs": [],
   "source": [
    "ans = build_chart('Romance').head(15)"
   ]
  },
  {
   "cell_type": "code",
   "execution_count": 18,
   "metadata": {},
   "outputs": [
    {
     "output_type": "execute_result",
     "data": {
      "text/plain": [
       "                             title  year  vote_count  vote_average popularity  \\\n",
       "10309  Dilwale Dulhania Le Jayenge  1995         661             9  34.457024   \n",
       "351                   Forrest Gump  1994        8147             8  48.307194   \n",
       "876                        Vertigo  1958        1162             8  18.208220   \n",
       "40251                   Your Name.  2016        1030             8  34.461252   \n",
       "883               Some Like It Hot  1959         835             8  11.845107   \n",
       "1132               Cinema Paradiso  1988         834             8  14.177005   \n",
       "19901                     Paperman  2012         734             8   7.198633   \n",
       "37863                  Sing Street  2016         669             8  10.672862   \n",
       "882                  The Apartment  1960         498             8  11.994281   \n",
       "38718               The Handmaiden  2016         453             8  16.727405   \n",
       "3189                   City Lights  1931         444             8  10.891524   \n",
       "24886             The Way He Looks  2014         262             8   5.711274   \n",
       "45437               In a Heartbeat  2017         146             8   20.82178   \n",
       "1639                       Titanic  1997        7770             7  26.889070   \n",
       "19731      Silver Linings Playbook  2012        4840             7  14.488111   \n",
       "\n",
       "             wr  \n",
       "10309  8.565285  \n",
       "351    7.971357  \n",
       "876    7.811667  \n",
       "40251  7.789489  \n",
       "883    7.745154  \n",
       "1132   7.744878  \n",
       "19901  7.713951  \n",
       "37863  7.689483  \n",
       "882    7.599317  \n",
       "38718  7.566166  \n",
       "3189   7.558867  \n",
       "24886  7.331363  \n",
       "45437  7.003959  \n",
       "1639   6.981546  \n",
       "19731  6.970581  "
      ],
      "text/html": "<div>\n<style scoped>\n    .dataframe tbody tr th:only-of-type {\n        vertical-align: middle;\n    }\n\n    .dataframe tbody tr th {\n        vertical-align: top;\n    }\n\n    .dataframe thead th {\n        text-align: right;\n    }\n</style>\n<table border=\"1\" class=\"dataframe\">\n  <thead>\n    <tr style=\"text-align: right;\">\n      <th></th>\n      <th>title</th>\n      <th>year</th>\n      <th>vote_count</th>\n      <th>vote_average</th>\n      <th>popularity</th>\n      <th>wr</th>\n    </tr>\n  </thead>\n  <tbody>\n    <tr>\n      <th>10309</th>\n      <td>Dilwale Dulhania Le Jayenge</td>\n      <td>1995</td>\n      <td>661</td>\n      <td>9</td>\n      <td>34.457024</td>\n      <td>8.565285</td>\n    </tr>\n    <tr>\n      <th>351</th>\n      <td>Forrest Gump</td>\n      <td>1994</td>\n      <td>8147</td>\n      <td>8</td>\n      <td>48.307194</td>\n      <td>7.971357</td>\n    </tr>\n    <tr>\n      <th>876</th>\n      <td>Vertigo</td>\n      <td>1958</td>\n      <td>1162</td>\n      <td>8</td>\n      <td>18.208220</td>\n      <td>7.811667</td>\n    </tr>\n    <tr>\n      <th>40251</th>\n      <td>Your Name.</td>\n      <td>2016</td>\n      <td>1030</td>\n      <td>8</td>\n      <td>34.461252</td>\n      <td>7.789489</td>\n    </tr>\n    <tr>\n      <th>883</th>\n      <td>Some Like It Hot</td>\n      <td>1959</td>\n      <td>835</td>\n      <td>8</td>\n      <td>11.845107</td>\n      <td>7.745154</td>\n    </tr>\n    <tr>\n      <th>1132</th>\n      <td>Cinema Paradiso</td>\n      <td>1988</td>\n      <td>834</td>\n      <td>8</td>\n      <td>14.177005</td>\n      <td>7.744878</td>\n    </tr>\n    <tr>\n      <th>19901</th>\n      <td>Paperman</td>\n      <td>2012</td>\n      <td>734</td>\n      <td>8</td>\n      <td>7.198633</td>\n      <td>7.713951</td>\n    </tr>\n    <tr>\n      <th>37863</th>\n      <td>Sing Street</td>\n      <td>2016</td>\n      <td>669</td>\n      <td>8</td>\n      <td>10.672862</td>\n      <td>7.689483</td>\n    </tr>\n    <tr>\n      <th>882</th>\n      <td>The Apartment</td>\n      <td>1960</td>\n      <td>498</td>\n      <td>8</td>\n      <td>11.994281</td>\n      <td>7.599317</td>\n    </tr>\n    <tr>\n      <th>38718</th>\n      <td>The Handmaiden</td>\n      <td>2016</td>\n      <td>453</td>\n      <td>8</td>\n      <td>16.727405</td>\n      <td>7.566166</td>\n    </tr>\n    <tr>\n      <th>3189</th>\n      <td>City Lights</td>\n      <td>1931</td>\n      <td>444</td>\n      <td>8</td>\n      <td>10.891524</td>\n      <td>7.558867</td>\n    </tr>\n    <tr>\n      <th>24886</th>\n      <td>The Way He Looks</td>\n      <td>2014</td>\n      <td>262</td>\n      <td>8</td>\n      <td>5.711274</td>\n      <td>7.331363</td>\n    </tr>\n    <tr>\n      <th>45437</th>\n      <td>In a Heartbeat</td>\n      <td>2017</td>\n      <td>146</td>\n      <td>8</td>\n      <td>20.82178</td>\n      <td>7.003959</td>\n    </tr>\n    <tr>\n      <th>1639</th>\n      <td>Titanic</td>\n      <td>1997</td>\n      <td>7770</td>\n      <td>7</td>\n      <td>26.889070</td>\n      <td>6.981546</td>\n    </tr>\n    <tr>\n      <th>19731</th>\n      <td>Silver Linings Playbook</td>\n      <td>2012</td>\n      <td>4840</td>\n      <td>7</td>\n      <td>14.488111</td>\n      <td>6.970581</td>\n    </tr>\n  </tbody>\n</table>\n</div>"
     },
     "metadata": {},
     "execution_count": 18
    }
   ],
   "source": [
    "ans"
   ]
  },
  {
   "cell_type": "code",
   "execution_count": 19,
   "metadata": {},
   "outputs": [],
   "source": [
    "links = pd.read_csv('Data_Files//links.csv')\n",
    "links = links[links['tmdbId'].notnull()]['tmdbId'].astype('int')"
   ]
  },
  {
   "cell_type": "code",
   "execution_count": 20,
   "metadata": {},
   "outputs": [
    {
     "output_type": "execute_result",
     "data": {
      "text/plain": [
       "0           862\n",
       "1          8844\n",
       "2         15602\n",
       "3         31357\n",
       "4         11862\n",
       "          ...  \n",
       "45838    439050\n",
       "45839    111109\n",
       "45840     67758\n",
       "45841    227506\n",
       "45842    461257\n",
       "Name: tmdbId, Length: 45624, dtype: int32"
      ]
     },
     "metadata": {},
     "execution_count": 20
    }
   ],
   "source": [
    "links"
   ]
  },
  {
   "cell_type": "code",
   "execution_count": 21,
   "metadata": {},
   "outputs": [],
   "source": [
    "md = md.drop([19730, 29503, 35587])"
   ]
  },
  {
   "cell_type": "code",
   "execution_count": 22,
   "metadata": {},
   "outputs": [],
   "source": [
    "md['id'] = md['id'].astype('int')"
   ]
  },
  {
   "cell_type": "code",
   "execution_count": 23,
   "metadata": {},
   "outputs": [
    {
     "output_type": "execute_result",
     "data": {
      "text/plain": [
       "(45463, 25)"
      ]
     },
     "metadata": {},
     "execution_count": 23
    }
   ],
   "source": [
    "smd = md[md['id'].isin(links)]\n",
    "smd.shape"
   ]
  },
  {
   "cell_type": "code",
   "execution_count": 24,
   "metadata": {},
   "outputs": [],
   "source": [
    "smd['tagline'] = smd['tagline'].fillna('')\n",
    "smd['description'] = smd['overview'] + smd['tagline']\n",
    "smd['description'] = smd['description'].fillna('')"
   ]
  },
  {
   "cell_type": "code",
   "execution_count": 25,
   "metadata": {},
   "outputs": [
    {
     "output_type": "execute_result",
     "data": {
      "text/plain": [
       "\"When siblings Judy and Peter discover an enchanted board game that opens the door to a magical world, they unwittingly invite Alan -- an adult who's been trapped inside the game for 26 years -- into their living room. Alan's only hope for freedom is to finish the game, which proves risky as all three find themselves running from giant rhinoceroses, evil monkeys and other terrifying creatures.Roll the dice and unleash the excitement!\""
      ]
     },
     "metadata": {},
     "execution_count": 25
    }
   ],
   "source": [
    "smd['description'][1]"
   ]
  },
  {
   "cell_type": "code",
   "execution_count": 26,
   "metadata": {},
   "outputs": [],
   "source": [
    "tf = TfidfVectorizer(analyzer='word',ngram_range=(1, 2),min_df=0, stop_words='english')\n",
    "tfidf_matrix = tf.fit_transform(smd['description'])"
   ]
  },
  {
   "cell_type": "code",
   "execution_count": 27,
   "metadata": {},
   "outputs": [
    {
     "output_type": "execute_result",
     "data": {
      "text/plain": [
       "(45463, 1104495)"
      ]
     },
     "metadata": {},
     "execution_count": 27
    }
   ],
   "source": [
    "tfidf_matrix.shape"
   ]
  },
  {
   "cell_type": "code",
   "execution_count": 28,
   "metadata": {},
   "outputs": [],
   "source": [
    "cosine_sim = linear_kernel(tfidf_matrix, tfidf_matrix)\n"
   ]
  },
  {
   "cell_type": "code",
   "execution_count": 38,
   "metadata": {},
   "outputs": [],
   "source": [
    "df = pd.DataFrame(cosine_sim)"
   ]
  },
  {
   "cell_type": "code",
   "execution_count": 30,
   "metadata": {},
   "outputs": [],
   "source": [
    "smd = smd.reset_index()\n",
    "titles = smd['title']\n",
    "indices = pd.Series(smd.index, index=smd['title'])"
   ]
  },
  {
   "cell_type": "code",
   "execution_count": 31,
   "metadata": {},
   "outputs": [],
   "source": [
    "def get_recommendations(title):\n",
    "    idx = indices[title]\n",
    "    if idx.size > 1:\n",
    "        idx = idx[0]\n",
    "    sim_scores = list(enumerate(cosine_sim[idx]))\n",
    "    sim_scores = sorted(sim_scores, key=lambda x: x[1], reverse=True)\n",
    "    sim_scores = sim_scores[1:31]\n",
    "    movie_indices = [i[0] for i in sim_scores]\n",
    "    return titles.iloc[movie_indices]"
   ]
  },
  {
   "cell_type": "code",
   "execution_count": 32,
   "metadata": {},
   "outputs": [
    {
     "output_type": "execute_result",
     "data": {
      "text/plain": [
       "28644                          Stand by Me Doraemon\n",
       "16068                                 Bloodbrothers\n",
       "18002                         The War of the Robots\n",
       "2458                                     The Matrix\n",
       "29990                                     Shakedown\n",
       "6415     Lara Croft Tomb Raider: The Cradle of Life\n",
       "13887                          The Inhabited Island\n",
       "3535                Pandora and the Flying Dutchman\n",
       "6075                               Tears of the Sun\n",
       "23629                                Beware of Pity\n",
       "603                           Hellraiser: Bloodline\n",
       "35663                 OSS 117: Mission for a Killer\n",
       "9076                                       Fetishes\n",
       "18444                                     Apollo 18\n",
       "14894                                    Green Zone\n",
       "35696                          Die Mondverschwörung\n",
       "33644                                        Baskin\n",
       "3073                                      Supernova\n",
       "27480                               Gregory Go Boom\n",
       "21574                The Secret of the Third Planet\n",
       "36101                                    Lazer Team\n",
       "22768                         The Wizard of Baghdad\n",
       "15706                                  The American\n",
       "3657                              Project Moon Base\n",
       "3652                                  House Party 2\n",
       "20599               Stray Dog: Kerberos Panzer Cops\n",
       "19942                     Welcome to the Space Show\n",
       "4614                               Jeepers Creepers\n",
       "27511             Vengeance: The Story of Tony Cimo\n",
       "30135                                   Tinker Bell\n",
       "Name: title, dtype: object"
      ]
     },
     "metadata": {},
     "execution_count": 32
    }
   ],
   "source": [
    "get_recommendations('Avatar').head(30)"
   ]
  },
  {
   "cell_type": "code",
   "execution_count": 44,
   "metadata": {},
   "outputs": [
    {
     "output_type": "execute_result",
     "data": {
      "text/plain": [
       "28644                          Stand by Me Doraemon\n",
       "16068                                 Bloodbrothers\n",
       "18002                         The War of the Robots\n",
       "2458                                     The Matrix\n",
       "29990                                     Shakedown\n",
       "6415     Lara Croft Tomb Raider: The Cradle of Life\n",
       "13887                          The Inhabited Island\n",
       "3535                Pandora and the Flying Dutchman\n",
       "6075                               Tears of the Sun\n",
       "23629                                Beware of Pity\n",
       "Name: title, dtype: object"
      ]
     },
     "metadata": {},
     "execution_count": 44
    }
   ],
   "source": [
    "get_recommendations('Avatar').head(10)"
   ]
  },
  {
   "cell_type": "code",
   "execution_count": 34,
   "metadata": {},
   "outputs": [
    {
     "output_type": "execute_result",
     "data": {
      "text/plain": [
       "14551"
      ]
     },
     "metadata": {},
     "execution_count": 34
    }
   ],
   "source": [
    "indices[\"Avatar\"]"
   ]
  },
  {
   "cell_type": "code",
   "execution_count": 35,
   "metadata": {},
   "outputs": [],
   "source": [
    "# sim_scores = list(enumerate(cosine_sim[12481]))"
   ]
  },
  {
   "cell_type": "code",
   "execution_count": 36,
   "metadata": {},
   "outputs": [],
   "source": [
    "# sim_scores"
   ]
  },
  {
   "cell_type": "code",
   "execution_count": 37,
   "metadata": {},
   "outputs": [],
   "source": [
    "# md[md[\"title\"] == \"Force Majeure\"]"
   ]
  },
  {
   "cell_type": "code",
   "execution_count": 39,
   "metadata": {},
   "outputs": [
    {
     "output_type": "execute_result",
     "data": {
      "text/plain": [
       "          0         1         2         3         4         5         6      \\\n",
       "0      1.000000  0.005118  0.000000  0.000000  0.000000  0.000000  0.000000   \n",
       "1      0.005118  1.000000  0.012787  0.000000  0.002019  0.013022  0.000000   \n",
       "2      0.000000  0.012787  1.000000  0.000000  0.006510  0.000000  0.000000   \n",
       "3      0.000000  0.000000  0.000000  1.000000  0.000000  0.001849  0.000000   \n",
       "4      0.000000  0.002019  0.006510  0.000000  1.000000  0.000000  0.006723   \n",
       "...         ...       ...       ...       ...       ...       ...       ...   \n",
       "45458  0.000000  0.000000  0.000000  0.006638  0.000000  0.006322  0.000000   \n",
       "45459  0.000000  0.017553  0.000000  0.000000  0.000000  0.000000  0.000000   \n",
       "45460  0.000000  0.021554  0.000000  0.000000  0.000000  0.007775  0.000000   \n",
       "45461  0.002369  0.007174  0.004539  0.002971  0.003403  0.000000  0.003483   \n",
       "45462  0.000000  0.002836  0.000000  0.004899  0.000000  0.000000  0.000000   \n",
       "\n",
       "          7         8         9      ...  45453  45454     45455     45456  \\\n",
       "0      0.000000  0.000000  0.000000  ...    0.0    0.0  0.000000  0.000000   \n",
       "1      0.000000  0.029914  0.000000  ...    0.0    0.0  0.002686  0.003304   \n",
       "2      0.001960  0.000000  0.000000  ...    0.0    0.0  0.000000  0.000000   \n",
       "3      0.005534  0.000000  0.000000  ...    0.0    0.0  0.000000  0.006305   \n",
       "4      0.000000  0.009547  0.000000  ...    0.0    0.0  0.000000  0.001806   \n",
       "...         ...       ...       ...  ...    ...    ...       ...       ...   \n",
       "45458  0.000000  0.000000  0.000000  ...    0.0    0.0  0.000000  0.000000   \n",
       "45459  0.000000  0.000000  0.013612  ...    0.0    0.0  0.000000  0.000000   \n",
       "45460  0.008018  0.032901  0.000000  ...    0.0    0.0  0.000000  0.008308   \n",
       "45461  0.001963  0.000000  0.000000  ...    0.0    0.0  0.000000  0.000000   \n",
       "45462  0.000000  0.000000  0.012247  ...    0.0    0.0  0.034215  0.010254   \n",
       "\n",
       "       45457     45458     45459     45460     45461     45462  \n",
       "0        0.0  0.000000  0.000000  0.000000  0.002369  0.000000  \n",
       "1        0.0  0.000000  0.017553  0.021554  0.007174  0.002836  \n",
       "2        0.0  0.000000  0.000000  0.000000  0.004539  0.000000  \n",
       "3        0.0  0.006638  0.000000  0.000000  0.002971  0.004899  \n",
       "4        0.0  0.000000  0.000000  0.000000  0.003403  0.000000  \n",
       "...      ...       ...       ...       ...       ...       ...  \n",
       "45458    0.0  1.000000  0.000000  0.000000  0.000000  0.000000  \n",
       "45459    0.0  0.000000  1.000000  0.000000  0.000000  0.000000  \n",
       "45460    0.0  0.000000  0.000000  1.000000  0.000000  0.000000  \n",
       "45461    0.0  0.000000  0.000000  0.000000  1.000000  0.000000  \n",
       "45462    0.0  0.000000  0.000000  0.000000  0.000000  1.000000  \n",
       "\n",
       "[45463 rows x 45463 columns]"
      ],
      "text/html": "<div>\n<style scoped>\n    .dataframe tbody tr th:only-of-type {\n        vertical-align: middle;\n    }\n\n    .dataframe tbody tr th {\n        vertical-align: top;\n    }\n\n    .dataframe thead th {\n        text-align: right;\n    }\n</style>\n<table border=\"1\" class=\"dataframe\">\n  <thead>\n    <tr style=\"text-align: right;\">\n      <th></th>\n      <th>0</th>\n      <th>1</th>\n      <th>2</th>\n      <th>3</th>\n      <th>4</th>\n      <th>5</th>\n      <th>6</th>\n      <th>7</th>\n      <th>8</th>\n      <th>9</th>\n      <th>...</th>\n      <th>45453</th>\n      <th>45454</th>\n      <th>45455</th>\n      <th>45456</th>\n      <th>45457</th>\n      <th>45458</th>\n      <th>45459</th>\n      <th>45460</th>\n      <th>45461</th>\n      <th>45462</th>\n    </tr>\n  </thead>\n  <tbody>\n    <tr>\n      <th>0</th>\n      <td>1.000000</td>\n      <td>0.005118</td>\n      <td>0.000000</td>\n      <td>0.000000</td>\n      <td>0.000000</td>\n      <td>0.000000</td>\n      <td>0.000000</td>\n      <td>0.000000</td>\n      <td>0.000000</td>\n      <td>0.000000</td>\n      <td>...</td>\n      <td>0.0</td>\n      <td>0.0</td>\n      <td>0.000000</td>\n      <td>0.000000</td>\n      <td>0.0</td>\n      <td>0.000000</td>\n      <td>0.000000</td>\n      <td>0.000000</td>\n      <td>0.002369</td>\n      <td>0.000000</td>\n    </tr>\n    <tr>\n      <th>1</th>\n      <td>0.005118</td>\n      <td>1.000000</td>\n      <td>0.012787</td>\n      <td>0.000000</td>\n      <td>0.002019</td>\n      <td>0.013022</td>\n      <td>0.000000</td>\n      <td>0.000000</td>\n      <td>0.029914</td>\n      <td>0.000000</td>\n      <td>...</td>\n      <td>0.0</td>\n      <td>0.0</td>\n      <td>0.002686</td>\n      <td>0.003304</td>\n      <td>0.0</td>\n      <td>0.000000</td>\n      <td>0.017553</td>\n      <td>0.021554</td>\n      <td>0.007174</td>\n      <td>0.002836</td>\n    </tr>\n    <tr>\n      <th>2</th>\n      <td>0.000000</td>\n      <td>0.012787</td>\n      <td>1.000000</td>\n      <td>0.000000</td>\n      <td>0.006510</td>\n      <td>0.000000</td>\n      <td>0.000000</td>\n      <td>0.001960</td>\n      <td>0.000000</td>\n      <td>0.000000</td>\n      <td>...</td>\n      <td>0.0</td>\n      <td>0.0</td>\n      <td>0.000000</td>\n      <td>0.000000</td>\n      <td>0.0</td>\n      <td>0.000000</td>\n      <td>0.000000</td>\n      <td>0.000000</td>\n      <td>0.004539</td>\n      <td>0.000000</td>\n    </tr>\n    <tr>\n      <th>3</th>\n      <td>0.000000</td>\n      <td>0.000000</td>\n      <td>0.000000</td>\n      <td>1.000000</td>\n      <td>0.000000</td>\n      <td>0.001849</td>\n      <td>0.000000</td>\n      <td>0.005534</td>\n      <td>0.000000</td>\n      <td>0.000000</td>\n      <td>...</td>\n      <td>0.0</td>\n      <td>0.0</td>\n      <td>0.000000</td>\n      <td>0.006305</td>\n      <td>0.0</td>\n      <td>0.006638</td>\n      <td>0.000000</td>\n      <td>0.000000</td>\n      <td>0.002971</td>\n      <td>0.004899</td>\n    </tr>\n    <tr>\n      <th>4</th>\n      <td>0.000000</td>\n      <td>0.002019</td>\n      <td>0.006510</td>\n      <td>0.000000</td>\n      <td>1.000000</td>\n      <td>0.000000</td>\n      <td>0.006723</td>\n      <td>0.000000</td>\n      <td>0.009547</td>\n      <td>0.000000</td>\n      <td>...</td>\n      <td>0.0</td>\n      <td>0.0</td>\n      <td>0.000000</td>\n      <td>0.001806</td>\n      <td>0.0</td>\n      <td>0.000000</td>\n      <td>0.000000</td>\n      <td>0.000000</td>\n      <td>0.003403</td>\n      <td>0.000000</td>\n    </tr>\n    <tr>\n      <th>...</th>\n      <td>...</td>\n      <td>...</td>\n      <td>...</td>\n      <td>...</td>\n      <td>...</td>\n      <td>...</td>\n      <td>...</td>\n      <td>...</td>\n      <td>...</td>\n      <td>...</td>\n      <td>...</td>\n      <td>...</td>\n      <td>...</td>\n      <td>...</td>\n      <td>...</td>\n      <td>...</td>\n      <td>...</td>\n      <td>...</td>\n      <td>...</td>\n      <td>...</td>\n      <td>...</td>\n    </tr>\n    <tr>\n      <th>45458</th>\n      <td>0.000000</td>\n      <td>0.000000</td>\n      <td>0.000000</td>\n      <td>0.006638</td>\n      <td>0.000000</td>\n      <td>0.006322</td>\n      <td>0.000000</td>\n      <td>0.000000</td>\n      <td>0.000000</td>\n      <td>0.000000</td>\n      <td>...</td>\n      <td>0.0</td>\n      <td>0.0</td>\n      <td>0.000000</td>\n      <td>0.000000</td>\n      <td>0.0</td>\n      <td>1.000000</td>\n      <td>0.000000</td>\n      <td>0.000000</td>\n      <td>0.000000</td>\n      <td>0.000000</td>\n    </tr>\n    <tr>\n      <th>45459</th>\n      <td>0.000000</td>\n      <td>0.017553</td>\n      <td>0.000000</td>\n      <td>0.000000</td>\n      <td>0.000000</td>\n      <td>0.000000</td>\n      <td>0.000000</td>\n      <td>0.000000</td>\n      <td>0.000000</td>\n      <td>0.013612</td>\n      <td>...</td>\n      <td>0.0</td>\n      <td>0.0</td>\n      <td>0.000000</td>\n      <td>0.000000</td>\n      <td>0.0</td>\n      <td>0.000000</td>\n      <td>1.000000</td>\n      <td>0.000000</td>\n      <td>0.000000</td>\n      <td>0.000000</td>\n    </tr>\n    <tr>\n      <th>45460</th>\n      <td>0.000000</td>\n      <td>0.021554</td>\n      <td>0.000000</td>\n      <td>0.000000</td>\n      <td>0.000000</td>\n      <td>0.007775</td>\n      <td>0.000000</td>\n      <td>0.008018</td>\n      <td>0.032901</td>\n      <td>0.000000</td>\n      <td>...</td>\n      <td>0.0</td>\n      <td>0.0</td>\n      <td>0.000000</td>\n      <td>0.008308</td>\n      <td>0.0</td>\n      <td>0.000000</td>\n      <td>0.000000</td>\n      <td>1.000000</td>\n      <td>0.000000</td>\n      <td>0.000000</td>\n    </tr>\n    <tr>\n      <th>45461</th>\n      <td>0.002369</td>\n      <td>0.007174</td>\n      <td>0.004539</td>\n      <td>0.002971</td>\n      <td>0.003403</td>\n      <td>0.000000</td>\n      <td>0.003483</td>\n      <td>0.001963</td>\n      <td>0.000000</td>\n      <td>0.000000</td>\n      <td>...</td>\n      <td>0.0</td>\n      <td>0.0</td>\n      <td>0.000000</td>\n      <td>0.000000</td>\n      <td>0.0</td>\n      <td>0.000000</td>\n      <td>0.000000</td>\n      <td>0.000000</td>\n      <td>1.000000</td>\n      <td>0.000000</td>\n    </tr>\n    <tr>\n      <th>45462</th>\n      <td>0.000000</td>\n      <td>0.002836</td>\n      <td>0.000000</td>\n      <td>0.004899</td>\n      <td>0.000000</td>\n      <td>0.000000</td>\n      <td>0.000000</td>\n      <td>0.000000</td>\n      <td>0.000000</td>\n      <td>0.012247</td>\n      <td>...</td>\n      <td>0.0</td>\n      <td>0.0</td>\n      <td>0.034215</td>\n      <td>0.010254</td>\n      <td>0.0</td>\n      <td>0.000000</td>\n      <td>0.000000</td>\n      <td>0.000000</td>\n      <td>0.000000</td>\n      <td>1.000000</td>\n    </tr>\n  </tbody>\n</table>\n<p>45463 rows × 45463 columns</p>\n</div>"
     },
     "metadata": {},
     "execution_count": 39
    }
   ],
   "source": [
    "# df.to_csv(\"temp.csv\")"
   ]
  },
  {
   "cell_type": "code",
   "execution_count": 42,
   "metadata": {},
   "outputs": [],
   "source": []
  },
  {
   "cell_type": "code",
   "execution_count": 43,
   "metadata": {},
   "outputs": [],
   "source": []
  },
  {
   "cell_type": "code",
   "execution_count": null,
   "metadata": {},
   "outputs": [],
   "source": []
  }
 ]
}