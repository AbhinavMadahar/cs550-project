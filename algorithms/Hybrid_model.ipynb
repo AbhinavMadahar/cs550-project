{
 "metadata": {
  "language_info": {
   "codemirror_mode": {
    "name": "ipython",
    "version": 3
   },
   "file_extension": ".py",
   "mimetype": "text/x-python",
   "name": "python",
   "nbconvert_exporter": "python",
   "pygments_lexer": "ipython3",
   "version": "3.8.6"
  },
  "orig_nbformat": 2,
  "kernelspec": {
   "name": "python386jvsc74a57bd0ae0f7d9b8820fe474c7edde94553f0cf73c02b89f079e79ddcefee8a7ce29cb0",
   "display_name": "Python 3.8.6 64-bit"
  }
 },
 "nbformat": 4,
 "nbformat_minor": 2,
 "cells": [
  {
   "cell_type": "code",
   "execution_count": 2,
   "metadata": {},
   "outputs": [],
   "source": [
    "%matplotlib inline\n",
    "import pandas as pd \n",
    "import numpy as np\n",
    "import matplotlib.pyplot as plt\n",
    "import seaborn as sns\n",
    "from scipy import stats\n",
    "from ast import literal_eval\n",
    "from sklearn.feature_extraction.text import TfidfVectorizer, CountVectorizer\n",
    "from sklearn.metrics.pairwise import linear_kernel, cosine_similarity\n",
    "from nltk.stem.snowball import SnowballStemmer\n",
    "from nltk.stem.wordnet import WordNetLemmatizer\n",
    "from nltk.corpus import wordnet\n",
    "from surprise import Reader, Dataset, SVD\n",
    "from surprise.model_selection import cross_validate\n",
    "\n",
    "\n",
    "import warnings; warnings.simplefilter('ignore')"
   ]
  },
  {
   "cell_type": "code",
   "execution_count": 16,
   "metadata": {},
   "outputs": [
    {
     "output_type": "execute_result",
     "data": {
      "text/plain": [
       "   adult                              belongs_to_collection    budget  \\\n",
       "0  False  {'id': 10194, 'name': 'Toy Story Collection', ...  30000000   \n",
       "1  False                                                NaN  65000000   \n",
       "2  False  {'id': 119050, 'name': 'Grumpy Old Men Collect...         0   \n",
       "3  False                                                NaN  16000000   \n",
       "4  False  {'id': 96871, 'name': 'Father of the Bride Col...         0   \n",
       "\n",
       "                                              genres  \\\n",
       "0  [{'id': 16, 'name': 'Animation'}, {'id': 35, '...   \n",
       "1  [{'id': 12, 'name': 'Adventure'}, {'id': 14, '...   \n",
       "2  [{'id': 10749, 'name': 'Romance'}, {'id': 35, ...   \n",
       "3  [{'id': 35, 'name': 'Comedy'}, {'id': 18, 'nam...   \n",
       "4                     [{'id': 35, 'name': 'Comedy'}]   \n",
       "\n",
       "                               homepage     id    imdb_id original_language  \\\n",
       "0  http://toystory.disney.com/toy-story    862  tt0114709                en   \n",
       "1                                   NaN   8844  tt0113497                en   \n",
       "2                                   NaN  15602  tt0113228                en   \n",
       "3                                   NaN  31357  tt0114885                en   \n",
       "4                                   NaN  11862  tt0113041                en   \n",
       "\n",
       "                original_title  \\\n",
       "0                    Toy Story   \n",
       "1                      Jumanji   \n",
       "2             Grumpier Old Men   \n",
       "3            Waiting to Exhale   \n",
       "4  Father of the Bride Part II   \n",
       "\n",
       "                                            overview  ... release_date  \\\n",
       "0  Led by Woody, Andy's toys live happily in his ...  ...   1995-10-30   \n",
       "1  When siblings Judy and Peter discover an encha...  ...   1995-12-15   \n",
       "2  A family wedding reignites the ancient feud be...  ...   1995-12-22   \n",
       "3  Cheated on, mistreated and stepped on, the wom...  ...   1995-12-22   \n",
       "4  Just when George Banks has recovered from his ...  ...   1995-02-10   \n",
       "\n",
       "       revenue runtime                                   spoken_languages  \\\n",
       "0  373554033.0    81.0           [{'iso_639_1': 'en', 'name': 'English'}]   \n",
       "1  262797249.0   104.0  [{'iso_639_1': 'en', 'name': 'English'}, {'iso...   \n",
       "2          0.0   101.0           [{'iso_639_1': 'en', 'name': 'English'}]   \n",
       "3   81452156.0   127.0           [{'iso_639_1': 'en', 'name': 'English'}]   \n",
       "4   76578911.0   106.0           [{'iso_639_1': 'en', 'name': 'English'}]   \n",
       "\n",
       "     status                                            tagline  \\\n",
       "0  Released                                                NaN   \n",
       "1  Released          Roll the dice and unleash the excitement!   \n",
       "2  Released  Still Yelling. Still Fighting. Still Ready for...   \n",
       "3  Released  Friends are the people who let you be yourself...   \n",
       "4  Released  Just When His World Is Back To Normal... He's ...   \n",
       "\n",
       "                         title  video vote_average vote_count  \n",
       "0                    Toy Story  False          7.7     5415.0  \n",
       "1                      Jumanji  False          6.9     2413.0  \n",
       "2             Grumpier Old Men  False          6.5       92.0  \n",
       "3            Waiting to Exhale  False          6.1       34.0  \n",
       "4  Father of the Bride Part II  False          5.7      173.0  \n",
       "\n",
       "[5 rows x 24 columns]"
      ],
      "text/html": "<div>\n<style scoped>\n    .dataframe tbody tr th:only-of-type {\n        vertical-align: middle;\n    }\n\n    .dataframe tbody tr th {\n        vertical-align: top;\n    }\n\n    .dataframe thead th {\n        text-align: right;\n    }\n</style>\n<table border=\"1\" class=\"dataframe\">\n  <thead>\n    <tr style=\"text-align: right;\">\n      <th></th>\n      <th>adult</th>\n      <th>belongs_to_collection</th>\n      <th>budget</th>\n      <th>genres</th>\n      <th>homepage</th>\n      <th>id</th>\n      <th>imdb_id</th>\n      <th>original_language</th>\n      <th>original_title</th>\n      <th>overview</th>\n      <th>...</th>\n      <th>release_date</th>\n      <th>revenue</th>\n      <th>runtime</th>\n      <th>spoken_languages</th>\n      <th>status</th>\n      <th>tagline</th>\n      <th>title</th>\n      <th>video</th>\n      <th>vote_average</th>\n      <th>vote_count</th>\n    </tr>\n  </thead>\n  <tbody>\n    <tr>\n      <th>0</th>\n      <td>False</td>\n      <td>{'id': 10194, 'name': 'Toy Story Collection', ...</td>\n      <td>30000000</td>\n      <td>[{'id': 16, 'name': 'Animation'}, {'id': 35, '...</td>\n      <td>http://toystory.disney.com/toy-story</td>\n      <td>862</td>\n      <td>tt0114709</td>\n      <td>en</td>\n      <td>Toy Story</td>\n      <td>Led by Woody, Andy's toys live happily in his ...</td>\n      <td>...</td>\n      <td>1995-10-30</td>\n      <td>373554033.0</td>\n      <td>81.0</td>\n      <td>[{'iso_639_1': 'en', 'name': 'English'}]</td>\n      <td>Released</td>\n      <td>NaN</td>\n      <td>Toy Story</td>\n      <td>False</td>\n      <td>7.7</td>\n      <td>5415.0</td>\n    </tr>\n    <tr>\n      <th>1</th>\n      <td>False</td>\n      <td>NaN</td>\n      <td>65000000</td>\n      <td>[{'id': 12, 'name': 'Adventure'}, {'id': 14, '...</td>\n      <td>NaN</td>\n      <td>8844</td>\n      <td>tt0113497</td>\n      <td>en</td>\n      <td>Jumanji</td>\n      <td>When siblings Judy and Peter discover an encha...</td>\n      <td>...</td>\n      <td>1995-12-15</td>\n      <td>262797249.0</td>\n      <td>104.0</td>\n      <td>[{'iso_639_1': 'en', 'name': 'English'}, {'iso...</td>\n      <td>Released</td>\n      <td>Roll the dice and unleash the excitement!</td>\n      <td>Jumanji</td>\n      <td>False</td>\n      <td>6.9</td>\n      <td>2413.0</td>\n    </tr>\n    <tr>\n      <th>2</th>\n      <td>False</td>\n      <td>{'id': 119050, 'name': 'Grumpy Old Men Collect...</td>\n      <td>0</td>\n      <td>[{'id': 10749, 'name': 'Romance'}, {'id': 35, ...</td>\n      <td>NaN</td>\n      <td>15602</td>\n      <td>tt0113228</td>\n      <td>en</td>\n      <td>Grumpier Old Men</td>\n      <td>A family wedding reignites the ancient feud be...</td>\n      <td>...</td>\n      <td>1995-12-22</td>\n      <td>0.0</td>\n      <td>101.0</td>\n      <td>[{'iso_639_1': 'en', 'name': 'English'}]</td>\n      <td>Released</td>\n      <td>Still Yelling. Still Fighting. Still Ready for...</td>\n      <td>Grumpier Old Men</td>\n      <td>False</td>\n      <td>6.5</td>\n      <td>92.0</td>\n    </tr>\n    <tr>\n      <th>3</th>\n      <td>False</td>\n      <td>NaN</td>\n      <td>16000000</td>\n      <td>[{'id': 35, 'name': 'Comedy'}, {'id': 18, 'nam...</td>\n      <td>NaN</td>\n      <td>31357</td>\n      <td>tt0114885</td>\n      <td>en</td>\n      <td>Waiting to Exhale</td>\n      <td>Cheated on, mistreated and stepped on, the wom...</td>\n      <td>...</td>\n      <td>1995-12-22</td>\n      <td>81452156.0</td>\n      <td>127.0</td>\n      <td>[{'iso_639_1': 'en', 'name': 'English'}]</td>\n      <td>Released</td>\n      <td>Friends are the people who let you be yourself...</td>\n      <td>Waiting to Exhale</td>\n      <td>False</td>\n      <td>6.1</td>\n      <td>34.0</td>\n    </tr>\n    <tr>\n      <th>4</th>\n      <td>False</td>\n      <td>{'id': 96871, 'name': 'Father of the Bride Col...</td>\n      <td>0</td>\n      <td>[{'id': 35, 'name': 'Comedy'}]</td>\n      <td>NaN</td>\n      <td>11862</td>\n      <td>tt0113041</td>\n      <td>en</td>\n      <td>Father of the Bride Part II</td>\n      <td>Just when George Banks has recovered from his ...</td>\n      <td>...</td>\n      <td>1995-02-10</td>\n      <td>76578911.0</td>\n      <td>106.0</td>\n      <td>[{'iso_639_1': 'en', 'name': 'English'}]</td>\n      <td>Released</td>\n      <td>Just When His World Is Back To Normal... He's ...</td>\n      <td>Father of the Bride Part II</td>\n      <td>False</td>\n      <td>5.7</td>\n      <td>173.0</td>\n    </tr>\n  </tbody>\n</table>\n<p>5 rows × 24 columns</p>\n</div>"
     },
     "metadata": {},
     "execution_count": 16
    }
   ],
   "source": [
    "movie_data = pd.read_csv('Data_Files//movies_metadata.csv')\n",
    "movie_data.head()"
   ]
  },
  {
   "cell_type": "code",
   "execution_count": 17,
   "metadata": {},
   "outputs": [],
   "source": [
    "# Cleanig the genres column and making it concise for later use\n",
    "movie_data['genres'] = movie_data['genres'].fillna('[]').apply(literal_eval).apply(lambda x: [i['name'] for i in x] if isinstance(x, list) else [])\n"
   ]
  },
  {
   "cell_type": "code",
   "execution_count": 18,
   "metadata": {},
   "outputs": [
    {
     "output_type": "execute_result",
     "data": {
      "text/plain": [
       "0         [Animation, Comedy, Family]\n",
       "1        [Adventure, Fantasy, Family]\n",
       "2                   [Romance, Comedy]\n",
       "3            [Comedy, Drama, Romance]\n",
       "4                            [Comedy]\n",
       "                     ...             \n",
       "45461                 [Drama, Family]\n",
       "45462                         [Drama]\n",
       "45463       [Action, Drama, Thriller]\n",
       "45464                              []\n",
       "45465                              []\n",
       "Name: genres, Length: 45466, dtype: object"
      ]
     },
     "metadata": {},
     "execution_count": 18
    }
   ],
   "source": [
    "movie_data['genres']"
   ]
  },
  {
   "cell_type": "code",
   "execution_count": 22,
   "metadata": {},
   "outputs": [
    {
     "output_type": "stream",
     "name": "stdout",
     "text": [
      "5.244896612406511\n434.0\n"
     ]
    }
   ],
   "source": [
    "# converting vote_count and vote_average to integer and finding the mean of vote averages, m is the quantile\n",
    "vote_counts = movie_data[movie_data['vote_count'].notnull()]['vote_count'].astype('int')\n",
    "vote_averages = movie_data[movie_data['vote_average'].notnull()]['vote_average'].astype('int')\n",
    "average = vote_averages.mean()\n",
    "print(average)\n",
    "m = vote_counts.quantile(0.95)\n",
    "print(m)"
   ]
  },
  {
   "cell_type": "code",
   "execution_count": 23,
   "metadata": {},
   "outputs": [],
   "source": [
    "# creating a year column and extracting year from the date column \n",
    "movie_data['year'] = pd.to_datetime(movie_data['release_date'], errors='coerce').apply(lambda x: str(x).split('-')[0] if x != np.nan else np.nan)"
   ]
  },
  {
   "cell_type": "code",
   "execution_count": 24,
   "metadata": {},
   "outputs": [
    {
     "output_type": "execute_result",
     "data": {
      "text/plain": [
       "0        1995\n",
       "1        1995\n",
       "2        1995\n",
       "3        1995\n",
       "4        1995\n",
       "         ... \n",
       "45461     NaT\n",
       "45462    2011\n",
       "45463    2003\n",
       "45464    1917\n",
       "45465    2017\n",
       "Name: year, Length: 45466, dtype: object"
      ]
     },
     "metadata": {},
     "execution_count": 24
    }
   ],
   "source": [
    "movie_data['year']"
   ]
  },
  {
   "cell_type": "code",
   "execution_count": 41,
   "metadata": {},
   "outputs": [],
   "source": [
    "links = pd.read_csv('Data_Files//links.csv')\n",
    "credits = pd.read_csv('Data_Files//credits.csv')\n",
    "keywords = pd.read_csv('Data_Files//keywords.csv')\n",
    "links = links[links['tmdbId'].notnull()]['tmdbId'].astype('int')"
   ]
  },
  {
   "cell_type": "code",
   "execution_count": 30,
   "metadata": {},
   "outputs": [],
   "source": [
    "movie_data = movie_data.drop([19730, 29503, 35587])"
   ]
  },
  {
   "cell_type": "code",
   "execution_count": 31,
   "metadata": {},
   "outputs": [],
   "source": [
    "movie_data['id'] = movie_data['id'].astype('int')"
   ]
  },
  {
   "cell_type": "code",
   "execution_count": 32,
   "metadata": {},
   "outputs": [
    {
     "output_type": "execute_result",
     "data": {
      "text/plain": [
       "(45463, 25)"
      ]
     },
     "metadata": {},
     "execution_count": 32
    }
   ],
   "source": [
    "# lmd = large-movie-data\n",
    "lmd = movie_data[movie_data['id'].isin(links)]\n",
    "lmd.shape"
   ]
  },
  {
   "cell_type": "code",
   "execution_count": 33,
   "metadata": {},
   "outputs": [],
   "source": [
    "# lmd['tagline'] = lmd['tagline'].fillna('')\n",
    "# lmd['description'] = lmd['overview'] + lmd['tagline']\n",
    "# lmd['description'] = lmd['description'].fillna('')"
   ]
  },
  {
   "cell_type": "code",
   "execution_count": 34,
   "metadata": {},
   "outputs": [
    {
     "output_type": "execute_result",
     "data": {
      "text/plain": [
       "\"When siblings Judy and Peter discover an enchanted board game that opens the door to a magical world, they unwittingly invite Alan -- an adult who's been trapped inside the game for 26 years -- into their living room. Alan's only hope for freedom is to finish the game, which proves risky as all three find themselves running from giant rhinoceroses, evil monkeys and other terrifying creatures.Roll the dice and unleash the excitement!\""
      ]
     },
     "metadata": {},
     "execution_count": 34
    }
   ],
   "source": [
    "# lmd['description'][1]"
   ]
  },
  {
   "cell_type": "code",
   "execution_count": 35,
   "metadata": {},
   "outputs": [],
   "source": [
    "# # here we use tfidf to analyze the word vector for description column\n",
    "# tf = TfidfVectorizer(analyzer='word',ngram_range=(1, 2),min_df=0, stop_words='english')\n",
    "# tfidf_matrix = tf.fit_transform(lmd['description'])"
   ]
  },
  {
   "cell_type": "code",
   "execution_count": 36,
   "metadata": {},
   "outputs": [
    {
     "output_type": "execute_result",
     "data": {
      "text/plain": [
       "(45463, 1104495)"
      ]
     },
     "metadata": {},
     "execution_count": 36
    }
   ],
   "source": [
    "# tfidf_matrix.shape"
   ]
  },
  {
   "cell_type": "code",
   "execution_count": 37,
   "metadata": {},
   "outputs": [],
   "source": [
    "# cosine_sim = linear_kernel(tfidf_matrix, tfidf_matrix)\n"
   ]
  },
  {
   "cell_type": "code",
   "execution_count": 38,
   "metadata": {},
   "outputs": [],
   "source": [
    "lmd = lmd.reset_index()\n",
    "titles = lmd['title']\n",
    "indices = pd.Series(lmd.index, index=lmd['title'])"
   ]
  },
  {
   "cell_type": "code",
   "execution_count": 39,
   "metadata": {},
   "outputs": [
    {
     "output_type": "execute_result",
     "data": {
      "text/plain": [
       "       index  adult                              belongs_to_collection  \\\n",
       "0          0  False  {'id': 10194, 'name': 'Toy Story Collection', ...   \n",
       "1          1  False                                                NaN   \n",
       "2          2  False  {'id': 119050, 'name': 'Grumpy Old Men Collect...   \n",
       "3          3  False                                                NaN   \n",
       "4          4  False  {'id': 96871, 'name': 'Father of the Bride Col...   \n",
       "...      ...    ...                                                ...   \n",
       "45458  45461  False                                                NaN   \n",
       "45459  45462  False                                                NaN   \n",
       "45460  45463  False                                                NaN   \n",
       "45461  45464  False                                                NaN   \n",
       "45462  45465  False                                                NaN   \n",
       "\n",
       "         budget                        genres  \\\n",
       "0      30000000   [Animation, Comedy, Family]   \n",
       "1      65000000  [Adventure, Fantasy, Family]   \n",
       "2             0             [Romance, Comedy]   \n",
       "3      16000000      [Comedy, Drama, Romance]   \n",
       "4             0                      [Comedy]   \n",
       "...         ...                           ...   \n",
       "45458         0               [Drama, Family]   \n",
       "45459         0                       [Drama]   \n",
       "45460         0     [Action, Drama, Thriller]   \n",
       "45461         0                            []   \n",
       "45462         0                            []   \n",
       "\n",
       "                                   homepage      id    imdb_id  \\\n",
       "0      http://toystory.disney.com/toy-story     862  tt0114709   \n",
       "1                                       NaN    8844  tt0113497   \n",
       "2                                       NaN   15602  tt0113228   \n",
       "3                                       NaN   31357  tt0114885   \n",
       "4                                       NaN   11862  tt0113041   \n",
       "...                                     ...     ...        ...   \n",
       "45458  http://www.imdb.com/title/tt6209470/  439050  tt6209470   \n",
       "45459                                   NaN  111109  tt2028550   \n",
       "45460                                   NaN   67758  tt0303758   \n",
       "45461                                   NaN  227506  tt0008536   \n",
       "45462                                   NaN  461257  tt6980792   \n",
       "\n",
       "      original_language               original_title  ... runtime  \\\n",
       "0                    en                    Toy Story  ...    81.0   \n",
       "1                    en                      Jumanji  ...   104.0   \n",
       "2                    en             Grumpier Old Men  ...   101.0   \n",
       "3                    en            Waiting to Exhale  ...   127.0   \n",
       "4                    en  Father of the Bride Part II  ...   106.0   \n",
       "...                 ...                          ...  ...     ...   \n",
       "45458                fa                      رگ خواب  ...    90.0   \n",
       "45459                tl          Siglo ng Pagluluwal  ...   360.0   \n",
       "45460                en                     Betrayal  ...    90.0   \n",
       "45461                en          Satana likuyushchiy  ...    87.0   \n",
       "45462                en                     Queerama  ...    75.0   \n",
       "\n",
       "                                        spoken_languages    status  \\\n",
       "0               [{'iso_639_1': 'en', 'name': 'English'}]  Released   \n",
       "1      [{'iso_639_1': 'en', 'name': 'English'}, {'iso...  Released   \n",
       "2               [{'iso_639_1': 'en', 'name': 'English'}]  Released   \n",
       "3               [{'iso_639_1': 'en', 'name': 'English'}]  Released   \n",
       "4               [{'iso_639_1': 'en', 'name': 'English'}]  Released   \n",
       "...                                                  ...       ...   \n",
       "45458             [{'iso_639_1': 'fa', 'name': 'فارسی'}]  Released   \n",
       "45459                  [{'iso_639_1': 'tl', 'name': ''}]  Released   \n",
       "45460           [{'iso_639_1': 'en', 'name': 'English'}]  Released   \n",
       "45461                                                 []  Released   \n",
       "45462           [{'iso_639_1': 'en', 'name': 'English'}]  Released   \n",
       "\n",
       "                                                 tagline  \\\n",
       "0                                                          \n",
       "1              Roll the dice and unleash the excitement!   \n",
       "2      Still Yelling. Still Fighting. Still Ready for...   \n",
       "3      Friends are the people who let you be yourself...   \n",
       "4      Just When His World Is Back To Normal... He's ...   \n",
       "...                                                  ...   \n",
       "45458         Rising and falling between a man and woman   \n",
       "45459                                                      \n",
       "45460                             A deadly game of wits.   \n",
       "45461                                                      \n",
       "45462                                                      \n",
       "\n",
       "                             title  video  vote_average  vote_count  year  \\\n",
       "0                        Toy Story  False           7.7      5415.0  1995   \n",
       "1                          Jumanji  False           6.9      2413.0  1995   \n",
       "2                 Grumpier Old Men  False           6.5        92.0  1995   \n",
       "3                Waiting to Exhale  False           6.1        34.0  1995   \n",
       "4      Father of the Bride Part II  False           5.7       173.0  1995   \n",
       "...                            ...    ...           ...         ...   ...   \n",
       "45458                       Subdue  False           4.0         1.0   NaT   \n",
       "45459          Century of Birthing  False           9.0         3.0  2011   \n",
       "45460                     Betrayal  False           3.8         6.0  2003   \n",
       "45461             Satan Triumphant  False           0.0         0.0  1917   \n",
       "45462                     Queerama  False           0.0         0.0  2017   \n",
       "\n",
       "                                             description  \n",
       "0      Led by Woody, Andy's toys live happily in his ...  \n",
       "1      When siblings Judy and Peter discover an encha...  \n",
       "2      A family wedding reignites the ancient feud be...  \n",
       "3      Cheated on, mistreated and stepped on, the wom...  \n",
       "4      Just when George Banks has recovered from his ...  \n",
       "...                                                  ...  \n",
       "45458  Rising and falling between a man and woman.Ris...  \n",
       "45459  An artist struggles to finish his work while a...  \n",
       "45460  When one of her hits goes wrong, a professiona...  \n",
       "45461  In a small town live two brothers, one a minis...  \n",
       "45462  50 years after decriminalisation of homosexual...  \n",
       "\n",
       "[45463 rows x 27 columns]"
      ],
      "text/html": "<div>\n<style scoped>\n    .dataframe tbody tr th:only-of-type {\n        vertical-align: middle;\n    }\n\n    .dataframe tbody tr th {\n        vertical-align: top;\n    }\n\n    .dataframe thead th {\n        text-align: right;\n    }\n</style>\n<table border=\"1\" class=\"dataframe\">\n  <thead>\n    <tr style=\"text-align: right;\">\n      <th></th>\n      <th>index</th>\n      <th>adult</th>\n      <th>belongs_to_collection</th>\n      <th>budget</th>\n      <th>genres</th>\n      <th>homepage</th>\n      <th>id</th>\n      <th>imdb_id</th>\n      <th>original_language</th>\n      <th>original_title</th>\n      <th>...</th>\n      <th>runtime</th>\n      <th>spoken_languages</th>\n      <th>status</th>\n      <th>tagline</th>\n      <th>title</th>\n      <th>video</th>\n      <th>vote_average</th>\n      <th>vote_count</th>\n      <th>year</th>\n      <th>description</th>\n    </tr>\n  </thead>\n  <tbody>\n    <tr>\n      <th>0</th>\n      <td>0</td>\n      <td>False</td>\n      <td>{'id': 10194, 'name': 'Toy Story Collection', ...</td>\n      <td>30000000</td>\n      <td>[Animation, Comedy, Family]</td>\n      <td>http://toystory.disney.com/toy-story</td>\n      <td>862</td>\n      <td>tt0114709</td>\n      <td>en</td>\n      <td>Toy Story</td>\n      <td>...</td>\n      <td>81.0</td>\n      <td>[{'iso_639_1': 'en', 'name': 'English'}]</td>\n      <td>Released</td>\n      <td></td>\n      <td>Toy Story</td>\n      <td>False</td>\n      <td>7.7</td>\n      <td>5415.0</td>\n      <td>1995</td>\n      <td>Led by Woody, Andy's toys live happily in his ...</td>\n    </tr>\n    <tr>\n      <th>1</th>\n      <td>1</td>\n      <td>False</td>\n      <td>NaN</td>\n      <td>65000000</td>\n      <td>[Adventure, Fantasy, Family]</td>\n      <td>NaN</td>\n      <td>8844</td>\n      <td>tt0113497</td>\n      <td>en</td>\n      <td>Jumanji</td>\n      <td>...</td>\n      <td>104.0</td>\n      <td>[{'iso_639_1': 'en', 'name': 'English'}, {'iso...</td>\n      <td>Released</td>\n      <td>Roll the dice and unleash the excitement!</td>\n      <td>Jumanji</td>\n      <td>False</td>\n      <td>6.9</td>\n      <td>2413.0</td>\n      <td>1995</td>\n      <td>When siblings Judy and Peter discover an encha...</td>\n    </tr>\n    <tr>\n      <th>2</th>\n      <td>2</td>\n      <td>False</td>\n      <td>{'id': 119050, 'name': 'Grumpy Old Men Collect...</td>\n      <td>0</td>\n      <td>[Romance, Comedy]</td>\n      <td>NaN</td>\n      <td>15602</td>\n      <td>tt0113228</td>\n      <td>en</td>\n      <td>Grumpier Old Men</td>\n      <td>...</td>\n      <td>101.0</td>\n      <td>[{'iso_639_1': 'en', 'name': 'English'}]</td>\n      <td>Released</td>\n      <td>Still Yelling. Still Fighting. Still Ready for...</td>\n      <td>Grumpier Old Men</td>\n      <td>False</td>\n      <td>6.5</td>\n      <td>92.0</td>\n      <td>1995</td>\n      <td>A family wedding reignites the ancient feud be...</td>\n    </tr>\n    <tr>\n      <th>3</th>\n      <td>3</td>\n      <td>False</td>\n      <td>NaN</td>\n      <td>16000000</td>\n      <td>[Comedy, Drama, Romance]</td>\n      <td>NaN</td>\n      <td>31357</td>\n      <td>tt0114885</td>\n      <td>en</td>\n      <td>Waiting to Exhale</td>\n      <td>...</td>\n      <td>127.0</td>\n      <td>[{'iso_639_1': 'en', 'name': 'English'}]</td>\n      <td>Released</td>\n      <td>Friends are the people who let you be yourself...</td>\n      <td>Waiting to Exhale</td>\n      <td>False</td>\n      <td>6.1</td>\n      <td>34.0</td>\n      <td>1995</td>\n      <td>Cheated on, mistreated and stepped on, the wom...</td>\n    </tr>\n    <tr>\n      <th>4</th>\n      <td>4</td>\n      <td>False</td>\n      <td>{'id': 96871, 'name': 'Father of the Bride Col...</td>\n      <td>0</td>\n      <td>[Comedy]</td>\n      <td>NaN</td>\n      <td>11862</td>\n      <td>tt0113041</td>\n      <td>en</td>\n      <td>Father of the Bride Part II</td>\n      <td>...</td>\n      <td>106.0</td>\n      <td>[{'iso_639_1': 'en', 'name': 'English'}]</td>\n      <td>Released</td>\n      <td>Just When His World Is Back To Normal... He's ...</td>\n      <td>Father of the Bride Part II</td>\n      <td>False</td>\n      <td>5.7</td>\n      <td>173.0</td>\n      <td>1995</td>\n      <td>Just when George Banks has recovered from his ...</td>\n    </tr>\n    <tr>\n      <th>...</th>\n      <td>...</td>\n      <td>...</td>\n      <td>...</td>\n      <td>...</td>\n      <td>...</td>\n      <td>...</td>\n      <td>...</td>\n      <td>...</td>\n      <td>...</td>\n      <td>...</td>\n      <td>...</td>\n      <td>...</td>\n      <td>...</td>\n      <td>...</td>\n      <td>...</td>\n      <td>...</td>\n      <td>...</td>\n      <td>...</td>\n      <td>...</td>\n      <td>...</td>\n      <td>...</td>\n    </tr>\n    <tr>\n      <th>45458</th>\n      <td>45461</td>\n      <td>False</td>\n      <td>NaN</td>\n      <td>0</td>\n      <td>[Drama, Family]</td>\n      <td>http://www.imdb.com/title/tt6209470/</td>\n      <td>439050</td>\n      <td>tt6209470</td>\n      <td>fa</td>\n      <td>رگ خواب</td>\n      <td>...</td>\n      <td>90.0</td>\n      <td>[{'iso_639_1': 'fa', 'name': 'فارسی'}]</td>\n      <td>Released</td>\n      <td>Rising and falling between a man and woman</td>\n      <td>Subdue</td>\n      <td>False</td>\n      <td>4.0</td>\n      <td>1.0</td>\n      <td>NaT</td>\n      <td>Rising and falling between a man and woman.Ris...</td>\n    </tr>\n    <tr>\n      <th>45459</th>\n      <td>45462</td>\n      <td>False</td>\n      <td>NaN</td>\n      <td>0</td>\n      <td>[Drama]</td>\n      <td>NaN</td>\n      <td>111109</td>\n      <td>tt2028550</td>\n      <td>tl</td>\n      <td>Siglo ng Pagluluwal</td>\n      <td>...</td>\n      <td>360.0</td>\n      <td>[{'iso_639_1': 'tl', 'name': ''}]</td>\n      <td>Released</td>\n      <td></td>\n      <td>Century of Birthing</td>\n      <td>False</td>\n      <td>9.0</td>\n      <td>3.0</td>\n      <td>2011</td>\n      <td>An artist struggles to finish his work while a...</td>\n    </tr>\n    <tr>\n      <th>45460</th>\n      <td>45463</td>\n      <td>False</td>\n      <td>NaN</td>\n      <td>0</td>\n      <td>[Action, Drama, Thriller]</td>\n      <td>NaN</td>\n      <td>67758</td>\n      <td>tt0303758</td>\n      <td>en</td>\n      <td>Betrayal</td>\n      <td>...</td>\n      <td>90.0</td>\n      <td>[{'iso_639_1': 'en', 'name': 'English'}]</td>\n      <td>Released</td>\n      <td>A deadly game of wits.</td>\n      <td>Betrayal</td>\n      <td>False</td>\n      <td>3.8</td>\n      <td>6.0</td>\n      <td>2003</td>\n      <td>When one of her hits goes wrong, a professiona...</td>\n    </tr>\n    <tr>\n      <th>45461</th>\n      <td>45464</td>\n      <td>False</td>\n      <td>NaN</td>\n      <td>0</td>\n      <td>[]</td>\n      <td>NaN</td>\n      <td>227506</td>\n      <td>tt0008536</td>\n      <td>en</td>\n      <td>Satana likuyushchiy</td>\n      <td>...</td>\n      <td>87.0</td>\n      <td>[]</td>\n      <td>Released</td>\n      <td></td>\n      <td>Satan Triumphant</td>\n      <td>False</td>\n      <td>0.0</td>\n      <td>0.0</td>\n      <td>1917</td>\n      <td>In a small town live two brothers, one a minis...</td>\n    </tr>\n    <tr>\n      <th>45462</th>\n      <td>45465</td>\n      <td>False</td>\n      <td>NaN</td>\n      <td>0</td>\n      <td>[]</td>\n      <td>NaN</td>\n      <td>461257</td>\n      <td>tt6980792</td>\n      <td>en</td>\n      <td>Queerama</td>\n      <td>...</td>\n      <td>75.0</td>\n      <td>[{'iso_639_1': 'en', 'name': 'English'}]</td>\n      <td>Released</td>\n      <td></td>\n      <td>Queerama</td>\n      <td>False</td>\n      <td>0.0</td>\n      <td>0.0</td>\n      <td>2017</td>\n      <td>50 years after decriminalisation of homosexual...</td>\n    </tr>\n  </tbody>\n</table>\n<p>45463 rows × 27 columns</p>\n</div>"
     },
     "metadata": {},
     "execution_count": 39
    }
   ],
   "source": [
    "lmd"
   ]
  },
  {
   "cell_type": "code",
   "execution_count": 42,
   "metadata": {},
   "outputs": [],
   "source": [
    "# Cleanig the keywords and credits data and making it concise for later use\n",
    "keywords['id'] = keywords['id'].astype('int')\n",
    "credits['id'] = credits['id'].astype('int')\n",
    "movie_data['id'] = movie_data['id'].astype('int')"
   ]
  },
  {
   "cell_type": "code",
   "execution_count": 43,
   "metadata": {},
   "outputs": [],
   "source": [
    "movie_data = movie_data.merge(credits, on='id')\n",
    "movie_data = movie_data.merge(keywords, on='id')"
   ]
  },
  {
   "cell_type": "code",
   "execution_count": 45,
   "metadata": {},
   "outputs": [
    {
     "output_type": "execute_result",
     "data": {
      "text/plain": [
       "(46628, 28)"
      ]
     },
     "metadata": {},
     "execution_count": 45
    }
   ],
   "source": [
    "lmd = movie_data[movie_data['id'].isin(links)]\n",
    "lmd.shape"
   ]
  },
  {
   "cell_type": "code",
   "execution_count": 47,
   "metadata": {},
   "outputs": [],
   "source": [
    "# Cleanig the cast, crew column and making it concise for later use\n",
    "lmd['cast'] = lmd['cast'].apply(literal_eval)\n",
    "lmd['crew'] = lmd['crew'].apply(literal_eval)\n",
    "lmd['keywords'] = lmd['keywords'].apply(literal_eval)\n",
    "lmd['cast_size'] = lmd['cast'].apply(lambda x: len(x))\n",
    "lmd['crew_size'] = lmd['crew'].apply(lambda x: len(x))"
   ]
  },
  {
   "cell_type": "code",
   "execution_count": 48,
   "metadata": {},
   "outputs": [
    {
     "output_type": "execute_result",
     "data": {
      "text/plain": [
       "       adult                              belongs_to_collection    budget  \\\n",
       "0      False  {'id': 10194, 'name': 'Toy Story Collection', ...  30000000   \n",
       "1      False                                                NaN  65000000   \n",
       "2      False  {'id': 119050, 'name': 'Grumpy Old Men Collect...         0   \n",
       "3      False                                                NaN  16000000   \n",
       "4      False  {'id': 96871, 'name': 'Father of the Bride Col...         0   \n",
       "...      ...                                                ...       ...   \n",
       "46623  False                                                NaN         0   \n",
       "46624  False                                                NaN         0   \n",
       "46625  False                                                NaN         0   \n",
       "46626  False                                                NaN         0   \n",
       "46627  False                                                NaN         0   \n",
       "\n",
       "                             genres                              homepage  \\\n",
       "0       [Animation, Comedy, Family]  http://toystory.disney.com/toy-story   \n",
       "1      [Adventure, Fantasy, Family]                                   NaN   \n",
       "2                 [Romance, Comedy]                                   NaN   \n",
       "3          [Comedy, Drama, Romance]                                   NaN   \n",
       "4                          [Comedy]                                   NaN   \n",
       "...                             ...                                   ...   \n",
       "46623               [Drama, Family]  http://www.imdb.com/title/tt6209470/   \n",
       "46624                       [Drama]                                   NaN   \n",
       "46625     [Action, Drama, Thriller]                                   NaN   \n",
       "46626                            []                                   NaN   \n",
       "46627                            []                                   NaN   \n",
       "\n",
       "           id    imdb_id original_language               original_title  \\\n",
       "0         862  tt0114709                en                    Toy Story   \n",
       "1        8844  tt0113497                en                      Jumanji   \n",
       "2       15602  tt0113228                en             Grumpier Old Men   \n",
       "3       31357  tt0114885                en            Waiting to Exhale   \n",
       "4       11862  tt0113041                en  Father of the Bride Part II   \n",
       "...       ...        ...               ...                          ...   \n",
       "46623  439050  tt6209470                fa                      رگ خواب   \n",
       "46624  111109  tt2028550                tl          Siglo ng Pagluluwal   \n",
       "46625   67758  tt0303758                en                     Betrayal   \n",
       "46626  227506  tt0008536                en          Satana likuyushchiy   \n",
       "46627  461257  tt6980792                en                     Queerama   \n",
       "\n",
       "                                                overview  ...  \\\n",
       "0      Led by Woody, Andy's toys live happily in his ...  ...   \n",
       "1      When siblings Judy and Peter discover an encha...  ...   \n",
       "2      A family wedding reignites the ancient feud be...  ...   \n",
       "3      Cheated on, mistreated and stepped on, the wom...  ...   \n",
       "4      Just when George Banks has recovered from his ...  ...   \n",
       "...                                                  ...  ...   \n",
       "46623        Rising and falling between a man and woman.  ...   \n",
       "46624  An artist struggles to finish his work while a...  ...   \n",
       "46625  When one of her hits goes wrong, a professiona...  ...   \n",
       "46626  In a small town live two brothers, one a minis...  ...   \n",
       "46627  50 years after decriminalisation of homosexual...  ...   \n",
       "\n",
       "                             title  video vote_average vote_count  year  \\\n",
       "0                        Toy Story  False          7.7     5415.0  1995   \n",
       "1                          Jumanji  False          6.9     2413.0  1995   \n",
       "2                 Grumpier Old Men  False          6.5       92.0  1995   \n",
       "3                Waiting to Exhale  False          6.1       34.0  1995   \n",
       "4      Father of the Bride Part II  False          5.7      173.0  1995   \n",
       "...                            ...    ...          ...        ...   ...   \n",
       "46623                       Subdue  False          4.0        1.0   NaT   \n",
       "46624          Century of Birthing  False          9.0        3.0  2011   \n",
       "46625                     Betrayal  False          3.8        6.0  2003   \n",
       "46626             Satan Triumphant  False          0.0        0.0  1917   \n",
       "46627                     Queerama  False          0.0        0.0  2017   \n",
       "\n",
       "                                                    cast  \\\n",
       "0      [{'cast_id': 14, 'character': 'Woody (voice)',...   \n",
       "1      [{'cast_id': 1, 'character': 'Alan Parrish', '...   \n",
       "2      [{'cast_id': 2, 'character': 'Max Goldman', 'c...   \n",
       "3      [{'cast_id': 1, 'character': 'Savannah 'Vannah...   \n",
       "4      [{'cast_id': 1, 'character': 'George Banks', '...   \n",
       "...                                                  ...   \n",
       "46623  [{'cast_id': 0, 'character': '', 'credit_id': ...   \n",
       "46624  [{'cast_id': 1002, 'character': 'Sister Angela...   \n",
       "46625  [{'cast_id': 6, 'character': 'Emily Shaw', 'cr...   \n",
       "46626  [{'cast_id': 2, 'character': '', 'credit_id': ...   \n",
       "46627                                                 []   \n",
       "\n",
       "                                                    crew  \\\n",
       "0      [{'credit_id': '52fe4284c3a36847f8024f49', 'de...   \n",
       "1      [{'credit_id': '52fe44bfc3a36847f80a7cd1', 'de...   \n",
       "2      [{'credit_id': '52fe466a9251416c75077a89', 'de...   \n",
       "3      [{'credit_id': '52fe44779251416c91011acb', 'de...   \n",
       "4      [{'credit_id': '52fe44959251416c75039ed7', 'de...   \n",
       "...                                                  ...   \n",
       "46623  [{'credit_id': '5894a97d925141426c00818c', 'de...   \n",
       "46624  [{'credit_id': '52fe4af1c3a36847f81e9b15', 'de...   \n",
       "46625  [{'credit_id': '52fe4776c3a368484e0c8387', 'de...   \n",
       "46626  [{'credit_id': '533bccebc3a36844cf0011a7', 'de...   \n",
       "46627  [{'credit_id': '593e676c92514105b702e68e', 'de...   \n",
       "\n",
       "                                                keywords cast_size crew_size  \n",
       "0      [{'id': 931, 'name': 'jealousy'}, {'id': 4290,...        13       106  \n",
       "1      [{'id': 10090, 'name': 'board game'}, {'id': 1...        26        16  \n",
       "2      [{'id': 1495, 'name': 'fishing'}, {'id': 12392...         7         4  \n",
       "3      [{'id': 818, 'name': 'based on novel'}, {'id':...        10        10  \n",
       "4      [{'id': 1009, 'name': 'baby'}, {'id': 1599, 'n...        12         7  \n",
       "...                                                  ...       ...       ...  \n",
       "46623             [{'id': 10703, 'name': 'tragic love'}]         3         9  \n",
       "46624  [{'id': 2679, 'name': 'artist'}, {'id': 14531,...        11         6  \n",
       "46625                                                 []        15         5  \n",
       "46626                                                 []         5         2  \n",
       "46627                                                 []         0         1  \n",
       "\n",
       "[46628 rows x 30 columns]"
      ],
      "text/html": "<div>\n<style scoped>\n    .dataframe tbody tr th:only-of-type {\n        vertical-align: middle;\n    }\n\n    .dataframe tbody tr th {\n        vertical-align: top;\n    }\n\n    .dataframe thead th {\n        text-align: right;\n    }\n</style>\n<table border=\"1\" class=\"dataframe\">\n  <thead>\n    <tr style=\"text-align: right;\">\n      <th></th>\n      <th>adult</th>\n      <th>belongs_to_collection</th>\n      <th>budget</th>\n      <th>genres</th>\n      <th>homepage</th>\n      <th>id</th>\n      <th>imdb_id</th>\n      <th>original_language</th>\n      <th>original_title</th>\n      <th>overview</th>\n      <th>...</th>\n      <th>title</th>\n      <th>video</th>\n      <th>vote_average</th>\n      <th>vote_count</th>\n      <th>year</th>\n      <th>cast</th>\n      <th>crew</th>\n      <th>keywords</th>\n      <th>cast_size</th>\n      <th>crew_size</th>\n    </tr>\n  </thead>\n  <tbody>\n    <tr>\n      <th>0</th>\n      <td>False</td>\n      <td>{'id': 10194, 'name': 'Toy Story Collection', ...</td>\n      <td>30000000</td>\n      <td>[Animation, Comedy, Family]</td>\n      <td>http://toystory.disney.com/toy-story</td>\n      <td>862</td>\n      <td>tt0114709</td>\n      <td>en</td>\n      <td>Toy Story</td>\n      <td>Led by Woody, Andy's toys live happily in his ...</td>\n      <td>...</td>\n      <td>Toy Story</td>\n      <td>False</td>\n      <td>7.7</td>\n      <td>5415.0</td>\n      <td>1995</td>\n      <td>[{'cast_id': 14, 'character': 'Woody (voice)',...</td>\n      <td>[{'credit_id': '52fe4284c3a36847f8024f49', 'de...</td>\n      <td>[{'id': 931, 'name': 'jealousy'}, {'id': 4290,...</td>\n      <td>13</td>\n      <td>106</td>\n    </tr>\n    <tr>\n      <th>1</th>\n      <td>False</td>\n      <td>NaN</td>\n      <td>65000000</td>\n      <td>[Adventure, Fantasy, Family]</td>\n      <td>NaN</td>\n      <td>8844</td>\n      <td>tt0113497</td>\n      <td>en</td>\n      <td>Jumanji</td>\n      <td>When siblings Judy and Peter discover an encha...</td>\n      <td>...</td>\n      <td>Jumanji</td>\n      <td>False</td>\n      <td>6.9</td>\n      <td>2413.0</td>\n      <td>1995</td>\n      <td>[{'cast_id': 1, 'character': 'Alan Parrish', '...</td>\n      <td>[{'credit_id': '52fe44bfc3a36847f80a7cd1', 'de...</td>\n      <td>[{'id': 10090, 'name': 'board game'}, {'id': 1...</td>\n      <td>26</td>\n      <td>16</td>\n    </tr>\n    <tr>\n      <th>2</th>\n      <td>False</td>\n      <td>{'id': 119050, 'name': 'Grumpy Old Men Collect...</td>\n      <td>0</td>\n      <td>[Romance, Comedy]</td>\n      <td>NaN</td>\n      <td>15602</td>\n      <td>tt0113228</td>\n      <td>en</td>\n      <td>Grumpier Old Men</td>\n      <td>A family wedding reignites the ancient feud be...</td>\n      <td>...</td>\n      <td>Grumpier Old Men</td>\n      <td>False</td>\n      <td>6.5</td>\n      <td>92.0</td>\n      <td>1995</td>\n      <td>[{'cast_id': 2, 'character': 'Max Goldman', 'c...</td>\n      <td>[{'credit_id': '52fe466a9251416c75077a89', 'de...</td>\n      <td>[{'id': 1495, 'name': 'fishing'}, {'id': 12392...</td>\n      <td>7</td>\n      <td>4</td>\n    </tr>\n    <tr>\n      <th>3</th>\n      <td>False</td>\n      <td>NaN</td>\n      <td>16000000</td>\n      <td>[Comedy, Drama, Romance]</td>\n      <td>NaN</td>\n      <td>31357</td>\n      <td>tt0114885</td>\n      <td>en</td>\n      <td>Waiting to Exhale</td>\n      <td>Cheated on, mistreated and stepped on, the wom...</td>\n      <td>...</td>\n      <td>Waiting to Exhale</td>\n      <td>False</td>\n      <td>6.1</td>\n      <td>34.0</td>\n      <td>1995</td>\n      <td>[{'cast_id': 1, 'character': 'Savannah 'Vannah...</td>\n      <td>[{'credit_id': '52fe44779251416c91011acb', 'de...</td>\n      <td>[{'id': 818, 'name': 'based on novel'}, {'id':...</td>\n      <td>10</td>\n      <td>10</td>\n    </tr>\n    <tr>\n      <th>4</th>\n      <td>False</td>\n      <td>{'id': 96871, 'name': 'Father of the Bride Col...</td>\n      <td>0</td>\n      <td>[Comedy]</td>\n      <td>NaN</td>\n      <td>11862</td>\n      <td>tt0113041</td>\n      <td>en</td>\n      <td>Father of the Bride Part II</td>\n      <td>Just when George Banks has recovered from his ...</td>\n      <td>...</td>\n      <td>Father of the Bride Part II</td>\n      <td>False</td>\n      <td>5.7</td>\n      <td>173.0</td>\n      <td>1995</td>\n      <td>[{'cast_id': 1, 'character': 'George Banks', '...</td>\n      <td>[{'credit_id': '52fe44959251416c75039ed7', 'de...</td>\n      <td>[{'id': 1009, 'name': 'baby'}, {'id': 1599, 'n...</td>\n      <td>12</td>\n      <td>7</td>\n    </tr>\n    <tr>\n      <th>...</th>\n      <td>...</td>\n      <td>...</td>\n      <td>...</td>\n      <td>...</td>\n      <td>...</td>\n      <td>...</td>\n      <td>...</td>\n      <td>...</td>\n      <td>...</td>\n      <td>...</td>\n      <td>...</td>\n      <td>...</td>\n      <td>...</td>\n      <td>...</td>\n      <td>...</td>\n      <td>...</td>\n      <td>...</td>\n      <td>...</td>\n      <td>...</td>\n      <td>...</td>\n      <td>...</td>\n    </tr>\n    <tr>\n      <th>46623</th>\n      <td>False</td>\n      <td>NaN</td>\n      <td>0</td>\n      <td>[Drama, Family]</td>\n      <td>http://www.imdb.com/title/tt6209470/</td>\n      <td>439050</td>\n      <td>tt6209470</td>\n      <td>fa</td>\n      <td>رگ خواب</td>\n      <td>Rising and falling between a man and woman.</td>\n      <td>...</td>\n      <td>Subdue</td>\n      <td>False</td>\n      <td>4.0</td>\n      <td>1.0</td>\n      <td>NaT</td>\n      <td>[{'cast_id': 0, 'character': '', 'credit_id': ...</td>\n      <td>[{'credit_id': '5894a97d925141426c00818c', 'de...</td>\n      <td>[{'id': 10703, 'name': 'tragic love'}]</td>\n      <td>3</td>\n      <td>9</td>\n    </tr>\n    <tr>\n      <th>46624</th>\n      <td>False</td>\n      <td>NaN</td>\n      <td>0</td>\n      <td>[Drama]</td>\n      <td>NaN</td>\n      <td>111109</td>\n      <td>tt2028550</td>\n      <td>tl</td>\n      <td>Siglo ng Pagluluwal</td>\n      <td>An artist struggles to finish his work while a...</td>\n      <td>...</td>\n      <td>Century of Birthing</td>\n      <td>False</td>\n      <td>9.0</td>\n      <td>3.0</td>\n      <td>2011</td>\n      <td>[{'cast_id': 1002, 'character': 'Sister Angela...</td>\n      <td>[{'credit_id': '52fe4af1c3a36847f81e9b15', 'de...</td>\n      <td>[{'id': 2679, 'name': 'artist'}, {'id': 14531,...</td>\n      <td>11</td>\n      <td>6</td>\n    </tr>\n    <tr>\n      <th>46625</th>\n      <td>False</td>\n      <td>NaN</td>\n      <td>0</td>\n      <td>[Action, Drama, Thriller]</td>\n      <td>NaN</td>\n      <td>67758</td>\n      <td>tt0303758</td>\n      <td>en</td>\n      <td>Betrayal</td>\n      <td>When one of her hits goes wrong, a professiona...</td>\n      <td>...</td>\n      <td>Betrayal</td>\n      <td>False</td>\n      <td>3.8</td>\n      <td>6.0</td>\n      <td>2003</td>\n      <td>[{'cast_id': 6, 'character': 'Emily Shaw', 'cr...</td>\n      <td>[{'credit_id': '52fe4776c3a368484e0c8387', 'de...</td>\n      <td>[]</td>\n      <td>15</td>\n      <td>5</td>\n    </tr>\n    <tr>\n      <th>46626</th>\n      <td>False</td>\n      <td>NaN</td>\n      <td>0</td>\n      <td>[]</td>\n      <td>NaN</td>\n      <td>227506</td>\n      <td>tt0008536</td>\n      <td>en</td>\n      <td>Satana likuyushchiy</td>\n      <td>In a small town live two brothers, one a minis...</td>\n      <td>...</td>\n      <td>Satan Triumphant</td>\n      <td>False</td>\n      <td>0.0</td>\n      <td>0.0</td>\n      <td>1917</td>\n      <td>[{'cast_id': 2, 'character': '', 'credit_id': ...</td>\n      <td>[{'credit_id': '533bccebc3a36844cf0011a7', 'de...</td>\n      <td>[]</td>\n      <td>5</td>\n      <td>2</td>\n    </tr>\n    <tr>\n      <th>46627</th>\n      <td>False</td>\n      <td>NaN</td>\n      <td>0</td>\n      <td>[]</td>\n      <td>NaN</td>\n      <td>461257</td>\n      <td>tt6980792</td>\n      <td>en</td>\n      <td>Queerama</td>\n      <td>50 years after decriminalisation of homosexual...</td>\n      <td>...</td>\n      <td>Queerama</td>\n      <td>False</td>\n      <td>0.0</td>\n      <td>0.0</td>\n      <td>2017</td>\n      <td>[]</td>\n      <td>[{'credit_id': '593e676c92514105b702e68e', 'de...</td>\n      <td>[]</td>\n      <td>0</td>\n      <td>1</td>\n    </tr>\n  </tbody>\n</table>\n<p>46628 rows × 30 columns</p>\n</div>"
     },
     "metadata": {},
     "execution_count": 48
    }
   ],
   "source": [
    "lmd"
   ]
  },
  {
   "cell_type": "code",
   "execution_count": 50,
   "metadata": {},
   "outputs": [],
   "source": [
    "def get_director(x):\n",
    "    for i in x:\n",
    "        if i['job'] == 'Director':\n",
    "            return i['name']\n",
    "    return np.nan"
   ]
  },
  {
   "cell_type": "code",
   "execution_count": 51,
   "metadata": {},
   "outputs": [],
   "source": [
    "# # Cleanig the director column and making it concise for later use\n",
    "lmd['director'] = lmd['crew'].apply(get_director)\n",
    "lmd['cast'] = lmd['cast'].apply(lambda x: [i['name'] for i in x] if isinstance(x, list) else [])\n",
    "lmd['cast'] = lmd['cast'].apply(lambda x: x[:3] if len(x) >=3 else x)\n",
    "lmd['keywords'] = lmd['keywords'].apply(lambda x: [i['name'] for i in x] if isinstance(x, list) else [])\n",
    "lmd['cast'] = lmd['cast'].apply(lambda x: [str.lower(i.replace(\" \", \"\")) for i in x])\n",
    "lmd['director'] = lmd['director'].astype('str').apply(lambda x: str.lower(x.replace(\" \", \"\")))\n",
    "lmd['director'] = lmd['director'].apply(lambda x: [x,x, x])\n"
   ]
  },
  {
   "cell_type": "code",
   "execution_count": 54,
   "metadata": {},
   "outputs": [
    {
     "output_type": "execute_result",
     "data": {
      "text/plain": [
       "woman director      3128\n",
       "independent film    1942\n",
       "murder              1314\n",
       "based on novel       841\n",
       "musical              734\n",
       "Name: keyword, dtype: int64"
      ]
     },
     "metadata": {},
     "execution_count": 54
    }
   ],
   "source": [
    "# performing the keyword count\n",
    "key_count = lmd.apply(lambda x: pd.Series(x['keywords']),axis=1).stack().reset_index(level=1, drop=True)\n",
    "key_count.name = 'keyword'\n",
    "key_count = key_count.value_counts()\n",
    "key_count[:5]\n"
   ]
  },
  {
   "cell_type": "code",
   "execution_count": 58,
   "metadata": {},
   "outputs": [],
   "source": [
    "# stemmer is used to mark similar words same ex. dogs and dog are the same word \n",
    "key_count = key_count[key_count > 1]\n",
    "stemmer = SnowballStemmer('english')"
   ]
  },
  {
   "cell_type": "code",
   "execution_count": 60,
   "metadata": {},
   "outputs": [],
   "source": [
    "def filter_keywords(x):\n",
    "    words = []\n",
    "    for i in x:\n",
    "        if i in s:\n",
    "            words.append(i)\n",
    "    return words\n",
    "\n",
    "lmd['keywords'] = lmd['keywords'].apply(filter_keywords)\n",
    "lmd['keywords'] = lmd['keywords'].apply(lambda x: [stemmer.stem(i) for i in x])\n",
    "lmd['keywords'] = lmd['keywords'].apply(lambda x: [str.lower(i.replace(\" \", \"\")) for i in x])\n",
    "lmd['soup'] = lmd['keywords'] + lmd['cast'] + lmd['director'] + lmd['genres']\n",
    "lmd['soup'] = lmd['soup'].apply(lambda x: ' '.join(x))\n",
    "\n",
    "# count vector for the metadata\n",
    "count = CountVectorizer(analyzer='word',ngram_range=(1, 2),min_df=0, stop_words='english')\n",
    "count_matrix = count.fit_transform(lmd['soup'])"
   ]
  },
  {
   "cell_type": "code",
   "execution_count": 61,
   "metadata": {},
   "outputs": [],
   "source": [
    "# calculating cosine_similarity of the metadata based vector\n",
    "cosine_sim = cosine_similarity(count_matrix, count_matrix)"
   ]
  },
  {
   "cell_type": "code",
   "execution_count": 63,
   "metadata": {},
   "outputs": [],
   "source": [
    "lmd = lmd.reset_index()\n",
    "titles = lmd['title']\n",
    "indices = pd.Series(lmd.index, index=lmd['title'])"
   ]
  },
  {
   "cell_type": "code",
   "execution_count": 64,
   "metadata": {},
   "outputs": [
    {
     "output_type": "execute_result",
     "data": {
      "text/plain": [
       "       level_0  index  adult  \\\n",
       "0            0      0  False   \n",
       "1            1      1  False   \n",
       "2            2      2  False   \n",
       "3            3      3  False   \n",
       "4            4      4  False   \n",
       "...        ...    ...    ...   \n",
       "46623    46623  46623  False   \n",
       "46624    46624  46624  False   \n",
       "46625    46625  46625  False   \n",
       "46626    46626  46626  False   \n",
       "46627    46627  46627  False   \n",
       "\n",
       "                                   belongs_to_collection    budget  \\\n",
       "0      {'id': 10194, 'name': 'Toy Story Collection', ...  30000000   \n",
       "1                                                    NaN  65000000   \n",
       "2      {'id': 119050, 'name': 'Grumpy Old Men Collect...         0   \n",
       "3                                                    NaN  16000000   \n",
       "4      {'id': 96871, 'name': 'Father of the Bride Col...         0   \n",
       "...                                                  ...       ...   \n",
       "46623                                                NaN         0   \n",
       "46624                                                NaN         0   \n",
       "46625                                                NaN         0   \n",
       "46626                                                NaN         0   \n",
       "46627                                                NaN         0   \n",
       "\n",
       "                             genres                              homepage  \\\n",
       "0       [Animation, Comedy, Family]  http://toystory.disney.com/toy-story   \n",
       "1      [Adventure, Fantasy, Family]                                   NaN   \n",
       "2                 [Romance, Comedy]                                   NaN   \n",
       "3          [Comedy, Drama, Romance]                                   NaN   \n",
       "4                          [Comedy]                                   NaN   \n",
       "...                             ...                                   ...   \n",
       "46623               [Drama, Family]  http://www.imdb.com/title/tt6209470/   \n",
       "46624                       [Drama]                                   NaN   \n",
       "46625     [Action, Drama, Thriller]                                   NaN   \n",
       "46626                            []                                   NaN   \n",
       "46627                            []                                   NaN   \n",
       "\n",
       "           id    imdb_id original_language  ... vote_average vote_count  year  \\\n",
       "0         862  tt0114709                en  ...          7.7     5415.0  1995   \n",
       "1        8844  tt0113497                en  ...          6.9     2413.0  1995   \n",
       "2       15602  tt0113228                en  ...          6.5       92.0  1995   \n",
       "3       31357  tt0114885                en  ...          6.1       34.0  1995   \n",
       "4       11862  tt0113041                en  ...          5.7      173.0  1995   \n",
       "...       ...        ...               ...  ...          ...        ...   ...   \n",
       "46623  439050  tt6209470                fa  ...          4.0        1.0   NaT   \n",
       "46624  111109  tt2028550                tl  ...          9.0        3.0  2011   \n",
       "46625   67758  tt0303758                en  ...          3.8        6.0  2003   \n",
       "46626  227506  tt0008536                en  ...          0.0        0.0  1917   \n",
       "46627  461257  tt6980792                en  ...          0.0        0.0  2017   \n",
       "\n",
       "                                                   cast  \\\n",
       "0                      [tomhanks, timallen, donrickles]   \n",
       "1           [robinwilliams, jonathanhyde, kirstendunst]   \n",
       "2              [waltermatthau, jacklemmon, ann-margret]   \n",
       "3        [whitneyhouston, angelabassett, lorettadevine]   \n",
       "4               [stevemartin, dianekeaton, martinshort]   \n",
       "...                                                 ...   \n",
       "46623          [leilahatami, kouroshtahami, elhamkorda]   \n",
       "46624           [angelaquino, perrydizon, hazelorencio]   \n",
       "46625          [erikaeleniak, adambaldwin, juliedupage]   \n",
       "46626  [iwanmosschuchin, nathalielissenko, pavelpavlov]   \n",
       "46627                                                []   \n",
       "\n",
       "                                                    crew  \\\n",
       "0      [{'credit_id': '52fe4284c3a36847f8024f49', 'de...   \n",
       "1      [{'credit_id': '52fe44bfc3a36847f80a7cd1', 'de...   \n",
       "2      [{'credit_id': '52fe466a9251416c75077a89', 'de...   \n",
       "3      [{'credit_id': '52fe44779251416c91011acb', 'de...   \n",
       "4      [{'credit_id': '52fe44959251416c75039ed7', 'de...   \n",
       "...                                                  ...   \n",
       "46623  [{'credit_id': '5894a97d925141426c00818c', 'de...   \n",
       "46624  [{'credit_id': '52fe4af1c3a36847f81e9b15', 'de...   \n",
       "46625  [{'credit_id': '52fe4776c3a368484e0c8387', 'de...   \n",
       "46626  [{'credit_id': '533bccebc3a36844cf0011a7', 'de...   \n",
       "46627  [{'credit_id': '593e676c92514105b702e68e', 'de...   \n",
       "\n",
       "                             keywords cast_size  crew_size  \\\n",
       "0      [toy, boy, friendship, friend]        13        106   \n",
       "1                                  []        26         16   \n",
       "2                              [fish]         7          4   \n",
       "3                                  []        10         10   \n",
       "4            [daughter, gynecologist]        12          7   \n",
       "...                               ...       ...        ...   \n",
       "46623                              []         3          9   \n",
       "46624           [artist, play, pinoy]        11          6   \n",
       "46625                              []        15          5   \n",
       "46626                              []         5          2   \n",
       "46627                              []         0          1   \n",
       "\n",
       "                                                director  \\\n",
       "0             [johnlasseter, johnlasseter, johnlasseter]   \n",
       "1                [joejohnston, joejohnston, joejohnston]   \n",
       "2             [howarddeutch, howarddeutch, howarddeutch]   \n",
       "3       [forestwhitaker, forestwhitaker, forestwhitaker]   \n",
       "4             [charlesshyer, charlesshyer, charlesshyer]   \n",
       "...                                                  ...   \n",
       "46623  [hamidnematollah, hamidnematollah, hamidnemato...   \n",
       "46624                        [lavdiaz, lavdiaz, lavdiaz]   \n",
       "46625         [markl.lester, markl.lester, markl.lester]   \n",
       "46626  [yakovprotazanov, yakovprotazanov, yakovprotaz...   \n",
       "46627         [daisyasquith, daisyasquith, daisyasquith]   \n",
       "\n",
       "                                                    soup  \n",
       "0      toy boy friendship friend tomhanks timallen do...  \n",
       "1      robinwilliams jonathanhyde kirstendunst joejoh...  \n",
       "2      fish waltermatthau jacklemmon ann-margret howa...  \n",
       "3      whitneyhouston angelabassett lorettadevine for...  \n",
       "4      daughter gynecologist stevemartin dianekeaton ...  \n",
       "...                                                  ...  \n",
       "46623  leilahatami kouroshtahami elhamkorda hamidnema...  \n",
       "46624  artist play pinoy angelaquino perrydizon hazel...  \n",
       "46625  erikaeleniak adambaldwin juliedupage markl.les...  \n",
       "46626  iwanmosschuchin nathalielissenko pavelpavlov y...  \n",
       "46627             daisyasquith daisyasquith daisyasquith  \n",
       "\n",
       "[46628 rows x 34 columns]"
      ],
      "text/html": "<div>\n<style scoped>\n    .dataframe tbody tr th:only-of-type {\n        vertical-align: middle;\n    }\n\n    .dataframe tbody tr th {\n        vertical-align: top;\n    }\n\n    .dataframe thead th {\n        text-align: right;\n    }\n</style>\n<table border=\"1\" class=\"dataframe\">\n  <thead>\n    <tr style=\"text-align: right;\">\n      <th></th>\n      <th>level_0</th>\n      <th>index</th>\n      <th>adult</th>\n      <th>belongs_to_collection</th>\n      <th>budget</th>\n      <th>genres</th>\n      <th>homepage</th>\n      <th>id</th>\n      <th>imdb_id</th>\n      <th>original_language</th>\n      <th>...</th>\n      <th>vote_average</th>\n      <th>vote_count</th>\n      <th>year</th>\n      <th>cast</th>\n      <th>crew</th>\n      <th>keywords</th>\n      <th>cast_size</th>\n      <th>crew_size</th>\n      <th>director</th>\n      <th>soup</th>\n    </tr>\n  </thead>\n  <tbody>\n    <tr>\n      <th>0</th>\n      <td>0</td>\n      <td>0</td>\n      <td>False</td>\n      <td>{'id': 10194, 'name': 'Toy Story Collection', ...</td>\n      <td>30000000</td>\n      <td>[Animation, Comedy, Family]</td>\n      <td>http://toystory.disney.com/toy-story</td>\n      <td>862</td>\n      <td>tt0114709</td>\n      <td>en</td>\n      <td>...</td>\n      <td>7.7</td>\n      <td>5415.0</td>\n      <td>1995</td>\n      <td>[tomhanks, timallen, donrickles]</td>\n      <td>[{'credit_id': '52fe4284c3a36847f8024f49', 'de...</td>\n      <td>[toy, boy, friendship, friend]</td>\n      <td>13</td>\n      <td>106</td>\n      <td>[johnlasseter, johnlasseter, johnlasseter]</td>\n      <td>toy boy friendship friend tomhanks timallen do...</td>\n    </tr>\n    <tr>\n      <th>1</th>\n      <td>1</td>\n      <td>1</td>\n      <td>False</td>\n      <td>NaN</td>\n      <td>65000000</td>\n      <td>[Adventure, Fantasy, Family]</td>\n      <td>NaN</td>\n      <td>8844</td>\n      <td>tt0113497</td>\n      <td>en</td>\n      <td>...</td>\n      <td>6.9</td>\n      <td>2413.0</td>\n      <td>1995</td>\n      <td>[robinwilliams, jonathanhyde, kirstendunst]</td>\n      <td>[{'credit_id': '52fe44bfc3a36847f80a7cd1', 'de...</td>\n      <td>[]</td>\n      <td>26</td>\n      <td>16</td>\n      <td>[joejohnston, joejohnston, joejohnston]</td>\n      <td>robinwilliams jonathanhyde kirstendunst joejoh...</td>\n    </tr>\n    <tr>\n      <th>2</th>\n      <td>2</td>\n      <td>2</td>\n      <td>False</td>\n      <td>{'id': 119050, 'name': 'Grumpy Old Men Collect...</td>\n      <td>0</td>\n      <td>[Romance, Comedy]</td>\n      <td>NaN</td>\n      <td>15602</td>\n      <td>tt0113228</td>\n      <td>en</td>\n      <td>...</td>\n      <td>6.5</td>\n      <td>92.0</td>\n      <td>1995</td>\n      <td>[waltermatthau, jacklemmon, ann-margret]</td>\n      <td>[{'credit_id': '52fe466a9251416c75077a89', 'de...</td>\n      <td>[fish]</td>\n      <td>7</td>\n      <td>4</td>\n      <td>[howarddeutch, howarddeutch, howarddeutch]</td>\n      <td>fish waltermatthau jacklemmon ann-margret howa...</td>\n    </tr>\n    <tr>\n      <th>3</th>\n      <td>3</td>\n      <td>3</td>\n      <td>False</td>\n      <td>NaN</td>\n      <td>16000000</td>\n      <td>[Comedy, Drama, Romance]</td>\n      <td>NaN</td>\n      <td>31357</td>\n      <td>tt0114885</td>\n      <td>en</td>\n      <td>...</td>\n      <td>6.1</td>\n      <td>34.0</td>\n      <td>1995</td>\n      <td>[whitneyhouston, angelabassett, lorettadevine]</td>\n      <td>[{'credit_id': '52fe44779251416c91011acb', 'de...</td>\n      <td>[]</td>\n      <td>10</td>\n      <td>10</td>\n      <td>[forestwhitaker, forestwhitaker, forestwhitaker]</td>\n      <td>whitneyhouston angelabassett lorettadevine for...</td>\n    </tr>\n    <tr>\n      <th>4</th>\n      <td>4</td>\n      <td>4</td>\n      <td>False</td>\n      <td>{'id': 96871, 'name': 'Father of the Bride Col...</td>\n      <td>0</td>\n      <td>[Comedy]</td>\n      <td>NaN</td>\n      <td>11862</td>\n      <td>tt0113041</td>\n      <td>en</td>\n      <td>...</td>\n      <td>5.7</td>\n      <td>173.0</td>\n      <td>1995</td>\n      <td>[stevemartin, dianekeaton, martinshort]</td>\n      <td>[{'credit_id': '52fe44959251416c75039ed7', 'de...</td>\n      <td>[daughter, gynecologist]</td>\n      <td>12</td>\n      <td>7</td>\n      <td>[charlesshyer, charlesshyer, charlesshyer]</td>\n      <td>daughter gynecologist stevemartin dianekeaton ...</td>\n    </tr>\n    <tr>\n      <th>...</th>\n      <td>...</td>\n      <td>...</td>\n      <td>...</td>\n      <td>...</td>\n      <td>...</td>\n      <td>...</td>\n      <td>...</td>\n      <td>...</td>\n      <td>...</td>\n      <td>...</td>\n      <td>...</td>\n      <td>...</td>\n      <td>...</td>\n      <td>...</td>\n      <td>...</td>\n      <td>...</td>\n      <td>...</td>\n      <td>...</td>\n      <td>...</td>\n      <td>...</td>\n      <td>...</td>\n    </tr>\n    <tr>\n      <th>46623</th>\n      <td>46623</td>\n      <td>46623</td>\n      <td>False</td>\n      <td>NaN</td>\n      <td>0</td>\n      <td>[Drama, Family]</td>\n      <td>http://www.imdb.com/title/tt6209470/</td>\n      <td>439050</td>\n      <td>tt6209470</td>\n      <td>fa</td>\n      <td>...</td>\n      <td>4.0</td>\n      <td>1.0</td>\n      <td>NaT</td>\n      <td>[leilahatami, kouroshtahami, elhamkorda]</td>\n      <td>[{'credit_id': '5894a97d925141426c00818c', 'de...</td>\n      <td>[]</td>\n      <td>3</td>\n      <td>9</td>\n      <td>[hamidnematollah, hamidnematollah, hamidnemato...</td>\n      <td>leilahatami kouroshtahami elhamkorda hamidnema...</td>\n    </tr>\n    <tr>\n      <th>46624</th>\n      <td>46624</td>\n      <td>46624</td>\n      <td>False</td>\n      <td>NaN</td>\n      <td>0</td>\n      <td>[Drama]</td>\n      <td>NaN</td>\n      <td>111109</td>\n      <td>tt2028550</td>\n      <td>tl</td>\n      <td>...</td>\n      <td>9.0</td>\n      <td>3.0</td>\n      <td>2011</td>\n      <td>[angelaquino, perrydizon, hazelorencio]</td>\n      <td>[{'credit_id': '52fe4af1c3a36847f81e9b15', 'de...</td>\n      <td>[artist, play, pinoy]</td>\n      <td>11</td>\n      <td>6</td>\n      <td>[lavdiaz, lavdiaz, lavdiaz]</td>\n      <td>artist play pinoy angelaquino perrydizon hazel...</td>\n    </tr>\n    <tr>\n      <th>46625</th>\n      <td>46625</td>\n      <td>46625</td>\n      <td>False</td>\n      <td>NaN</td>\n      <td>0</td>\n      <td>[Action, Drama, Thriller]</td>\n      <td>NaN</td>\n      <td>67758</td>\n      <td>tt0303758</td>\n      <td>en</td>\n      <td>...</td>\n      <td>3.8</td>\n      <td>6.0</td>\n      <td>2003</td>\n      <td>[erikaeleniak, adambaldwin, juliedupage]</td>\n      <td>[{'credit_id': '52fe4776c3a368484e0c8387', 'de...</td>\n      <td>[]</td>\n      <td>15</td>\n      <td>5</td>\n      <td>[markl.lester, markl.lester, markl.lester]</td>\n      <td>erikaeleniak adambaldwin juliedupage markl.les...</td>\n    </tr>\n    <tr>\n      <th>46626</th>\n      <td>46626</td>\n      <td>46626</td>\n      <td>False</td>\n      <td>NaN</td>\n      <td>0</td>\n      <td>[]</td>\n      <td>NaN</td>\n      <td>227506</td>\n      <td>tt0008536</td>\n      <td>en</td>\n      <td>...</td>\n      <td>0.0</td>\n      <td>0.0</td>\n      <td>1917</td>\n      <td>[iwanmosschuchin, nathalielissenko, pavelpavlov]</td>\n      <td>[{'credit_id': '533bccebc3a36844cf0011a7', 'de...</td>\n      <td>[]</td>\n      <td>5</td>\n      <td>2</td>\n      <td>[yakovprotazanov, yakovprotazanov, yakovprotaz...</td>\n      <td>iwanmosschuchin nathalielissenko pavelpavlov y...</td>\n    </tr>\n    <tr>\n      <th>46627</th>\n      <td>46627</td>\n      <td>46627</td>\n      <td>False</td>\n      <td>NaN</td>\n      <td>0</td>\n      <td>[]</td>\n      <td>NaN</td>\n      <td>461257</td>\n      <td>tt6980792</td>\n      <td>en</td>\n      <td>...</td>\n      <td>0.0</td>\n      <td>0.0</td>\n      <td>2017</td>\n      <td>[]</td>\n      <td>[{'credit_id': '593e676c92514105b702e68e', 'de...</td>\n      <td>[]</td>\n      <td>0</td>\n      <td>1</td>\n      <td>[daisyasquith, daisyasquith, daisyasquith]</td>\n      <td>daisyasquith daisyasquith daisyasquith</td>\n    </tr>\n  </tbody>\n</table>\n<p>46628 rows × 34 columns</p>\n</div>"
     },
     "metadata": {},
     "execution_count": 64
    }
   ],
   "source": [
    "# cleaned movie dataset\n",
    "lmd"
   ]
  },
  {
   "cell_type": "code",
   "execution_count": 3,
   "metadata": {},
   "outputs": [
    {
     "output_type": "execute_result",
     "data": {
      "text/plain": [
       "   userId  movieId  rating   timestamp\n",
       "0       1      110     1.0  1425941529\n",
       "1       1      147     4.5  1425942435\n",
       "2       1      858     5.0  1425941523\n",
       "3       1     1221     5.0  1425941546\n",
       "4       1     1246     5.0  1425941556"
      ],
      "text/html": "<div>\n<style scoped>\n    .dataframe tbody tr th:only-of-type {\n        vertical-align: middle;\n    }\n\n    .dataframe tbody tr th {\n        vertical-align: top;\n    }\n\n    .dataframe thead th {\n        text-align: right;\n    }\n</style>\n<table border=\"1\" class=\"dataframe\">\n  <thead>\n    <tr style=\"text-align: right;\">\n      <th></th>\n      <th>userId</th>\n      <th>movieId</th>\n      <th>rating</th>\n      <th>timestamp</th>\n    </tr>\n  </thead>\n  <tbody>\n    <tr>\n      <th>0</th>\n      <td>1</td>\n      <td>110</td>\n      <td>1.0</td>\n      <td>1425941529</td>\n    </tr>\n    <tr>\n      <th>1</th>\n      <td>1</td>\n      <td>147</td>\n      <td>4.5</td>\n      <td>1425942435</td>\n    </tr>\n    <tr>\n      <th>2</th>\n      <td>1</td>\n      <td>858</td>\n      <td>5.0</td>\n      <td>1425941523</td>\n    </tr>\n    <tr>\n      <th>3</th>\n      <td>1</td>\n      <td>1221</td>\n      <td>5.0</td>\n      <td>1425941546</td>\n    </tr>\n    <tr>\n      <th>4</th>\n      <td>1</td>\n      <td>1246</td>\n      <td>5.0</td>\n      <td>1425941556</td>\n    </tr>\n  </tbody>\n</table>\n</div>"
     },
     "metadata": {},
     "execution_count": 3
    }
   ],
   "source": [
    "reader = Reader()\n",
    "\n",
    "ratings = pd.read_csv('Data_Files//ratings.csv')\n",
    "ratings.head()"
   ]
  },
  {
   "cell_type": "code",
   "execution_count": 5,
   "metadata": {},
   "outputs": [],
   "source": [
    "data = Dataset.load_from_df(ratings[['userId', 'movieId', 'rating']], reader)\n"
   ]
  },
  {
   "cell_type": "code",
   "execution_count": 6,
   "metadata": {},
   "outputs": [
    {
     "output_type": "stream",
     "name": "stdout",
     "text": [
      "Evaluating RMSE, MAE of algorithm SVD on 3 split(s).\n\n                  Fold 1  Fold 2  Fold 3  Mean    Std     \nRMSE (testset)    0.8057  0.8053  0.8061  0.8057  0.0003  \nMAE (testset)     0.6104  0.6102  0.6106  0.6104  0.0002  \nFit time          746.15  753.71  776.67  758.84  12.98   \nTest time         106.20  105.93  95.89   102.68  4.80    \n"
     ]
    },
    {
     "output_type": "execute_result",
     "data": {
      "text/plain": [
       "{'test_rmse': array([0.80571985, 0.80532833, 0.80614815]),\n",
       " 'test_mae': array([0.6103733 , 0.61015395, 0.61057662]),\n",
       " 'fit_time': (746.1520004272461, 753.7127070426941, 776.6682245731354),\n",
       " 'test_time': (106.19903898239136, 105.93161129951477, 95.89438819885254)}"
      ]
     },
     "metadata": {},
     "execution_count": 6
    }
   ],
   "source": [
    "svd = SVD()\n",
    "cross_validate(svd, data, measures=['RMSE', 'MAE'], cv=3, verbose=True)"
   ]
  },
  {
   "cell_type": "code",
   "execution_count": 7,
   "metadata": {},
   "outputs": [
    {
     "output_type": "execute_result",
     "data": {
      "text/plain": [
       "<surprise.prediction_algorithms.matrix_factorization.SVD at 0x22badf9dbe0>"
      ]
     },
     "metadata": {},
     "execution_count": 7
    }
   ],
   "source": [
    "trainset = data.build_full_trainset()\n",
    "svd.fit(trainset)"
   ]
  },
  {
   "cell_type": "code",
   "execution_count": 12,
   "metadata": {},
   "outputs": [
    {
     "output_type": "execute_result",
     "data": {
      "text/plain": [
       "Prediction(uid=10, iid=3020, r_ui=4, est=4.125189161173455, details={'was_impossible': False})"
      ]
     },
     "metadata": {},
     "execution_count": 12
    }
   ],
   "source": [
    "svd.predict(10, 3020, 4)"
   ]
  },
  {
   "cell_type": "code",
   "execution_count": 77,
   "metadata": {},
   "outputs": [],
   "source": [
    "def convert_int(x):\n",
    "    try:\n",
    "        return int(x)\n",
    "    except:\n",
    "        return np.nan\n",
    "\n",
    "id_map = pd.read_csv('Data_Files//links.csv')[['movieId', 'tmdbId']]\n",
    "id_map['tmdbId'] = id_map['tmdbId'].apply(convert_int)\n",
    "id_map.columns = ['movieId', 'id']\n",
    "id_map = id_map.merge(lmd[['title', 'id']], on='id').set_index('title')\n",
    "indices_map = id_map.set_index('id')\n"
   ]
  },
  {
   "cell_type": "code",
   "execution_count": 80,
   "metadata": {},
   "outputs": [],
   "source": [
    "def hybrid(userId, title):\n",
    "    idx = indices[title]\n",
    "    tmdbId = id_map.loc[title]['id']\n",
    "    #print(idx)\n",
    "    movie_id = id_map.loc[title]['movieId']\n",
    "    \n",
    "    sim_scores = list(enumerate(cosine_sim[int(idx)]))\n",
    "    sim_scores = sorted(sim_scores, key=lambda x: x[1], reverse=True)\n",
    "    sim_scores = sim_scores[1:26]\n",
    "    movie_indices = [i[0] for i in sim_scores]\n",
    "    \n",
    "    movies = lmd.iloc[movie_indices][['title', 'vote_count', 'vote_average', 'year', 'id']]\n",
    "    movies['est'] = movies['id'].apply(lambda x: svd.predict(userId, indices_map.loc[x]['movieId']).est)\n",
    "    movies = movies.sort_values('est', ascending=False)\n",
    "    return movies.head(30)"
   ]
  },
  {
   "cell_type": "code",
   "execution_count": 81,
   "metadata": {},
   "outputs": [
    {
     "output_type": "execute_result",
     "data": {
      "text/plain": [
       "                               title  vote_count  vote_average  year     id  \\\n",
       "1199          The Godfather: Part II      3418.0           8.3  1974    240   \n",
       "1186                  Apocalypse Now      2112.0           8.0  1979     28   \n",
       "3635                The Conversation       377.0           7.5  1974    592   \n",
       "13474                 Chinese Coffee        16.0           6.3  2000  49511   \n",
       "5309                     The Gambler        21.0           7.0  1974  44800   \n",
       "8911                     Rumble Fish       141.0           6.8  1983    232   \n",
       "1934         The Godfather: Part III      1589.0           7.1  1990    242   \n",
       "1614                   The Rainmaker       239.0           6.7  1997  11975   \n",
       "4470   Tucker: The Man and His Dream        71.0           6.5  1988  28176   \n",
       "1312                         Dracula      1087.0           7.1  1992   6114   \n",
       "14219                          Tetro        49.0           6.7  2009  11928   \n",
       "2025                   The Outsiders       293.0           6.9  1983    227   \n",
       "23540            Hide in Plain Sight         3.0           5.8  1980  48949   \n",
       "4602                 The Cotton Club        71.0           6.5  1984   2148   \n",
       "2376           Peggy Sue Got Married       138.0           5.9  1986  10013   \n",
       "7750            You're a Big Boy Now        13.0           5.9  1966  42728   \n",
       "4012                Gardens of Stone        25.0           5.5  1987  28368   \n",
       "12614            Youth Without Youth        47.0           6.5  2007   7797   \n",
       "6040              One from the Heart        20.0           5.6  1982  41291   \n",
       "9937                Finian's Rainbow        13.0           5.3  1968  42622   \n",
       "15609                The Rain People        10.0           5.5  1969  59231   \n",
       "6319                     Dementia 13        24.0           5.4  1963  28503   \n",
       "23143                     Captain EO        26.0           6.2  1986  19492   \n",
       "17765                          Twixt        86.0           5.0  2011  78381   \n",
       "754                             Jack       340.0           5.9  1996   7095   \n",
       "\n",
       "            est  \n",
       "1199   4.246934  \n",
       "1186   4.102027  \n",
       "3635   3.847925  \n",
       "13474  3.670107  \n",
       "5309   3.593011  \n",
       "8911   3.347481  \n",
       "1934   3.323440  \n",
       "1614   3.302125  \n",
       "4470   3.254798  \n",
       "1312   3.245694  \n",
       "14219  3.241373  \n",
       "2025   3.180590  \n",
       "23540  3.164419  \n",
       "4602   3.022531  \n",
       "2376   3.001706  \n",
       "7750   2.994693  \n",
       "4012   2.989282  \n",
       "12614  2.929398  \n",
       "6040   2.830235  \n",
       "9937   2.811516  \n",
       "15609  2.773241  \n",
       "6319   2.709927  \n",
       "23143  2.582492  \n",
       "17765  2.512443  \n",
       "754    2.394898  "
      ],
      "text/html": "<div>\n<style scoped>\n    .dataframe tbody tr th:only-of-type {\n        vertical-align: middle;\n    }\n\n    .dataframe tbody tr th {\n        vertical-align: top;\n    }\n\n    .dataframe thead th {\n        text-align: right;\n    }\n</style>\n<table border=\"1\" class=\"dataframe\">\n  <thead>\n    <tr style=\"text-align: right;\">\n      <th></th>\n      <th>title</th>\n      <th>vote_count</th>\n      <th>vote_average</th>\n      <th>year</th>\n      <th>id</th>\n      <th>est</th>\n    </tr>\n  </thead>\n  <tbody>\n    <tr>\n      <th>1199</th>\n      <td>The Godfather: Part II</td>\n      <td>3418.0</td>\n      <td>8.3</td>\n      <td>1974</td>\n      <td>240</td>\n      <td>4.246934</td>\n    </tr>\n    <tr>\n      <th>1186</th>\n      <td>Apocalypse Now</td>\n      <td>2112.0</td>\n      <td>8.0</td>\n      <td>1979</td>\n      <td>28</td>\n      <td>4.102027</td>\n    </tr>\n    <tr>\n      <th>3635</th>\n      <td>The Conversation</td>\n      <td>377.0</td>\n      <td>7.5</td>\n      <td>1974</td>\n      <td>592</td>\n      <td>3.847925</td>\n    </tr>\n    <tr>\n      <th>13474</th>\n      <td>Chinese Coffee</td>\n      <td>16.0</td>\n      <td>6.3</td>\n      <td>2000</td>\n      <td>49511</td>\n      <td>3.670107</td>\n    </tr>\n    <tr>\n      <th>5309</th>\n      <td>The Gambler</td>\n      <td>21.0</td>\n      <td>7.0</td>\n      <td>1974</td>\n      <td>44800</td>\n      <td>3.593011</td>\n    </tr>\n    <tr>\n      <th>8911</th>\n      <td>Rumble Fish</td>\n      <td>141.0</td>\n      <td>6.8</td>\n      <td>1983</td>\n      <td>232</td>\n      <td>3.347481</td>\n    </tr>\n    <tr>\n      <th>1934</th>\n      <td>The Godfather: Part III</td>\n      <td>1589.0</td>\n      <td>7.1</td>\n      <td>1990</td>\n      <td>242</td>\n      <td>3.323440</td>\n    </tr>\n    <tr>\n      <th>1614</th>\n      <td>The Rainmaker</td>\n      <td>239.0</td>\n      <td>6.7</td>\n      <td>1997</td>\n      <td>11975</td>\n      <td>3.302125</td>\n    </tr>\n    <tr>\n      <th>4470</th>\n      <td>Tucker: The Man and His Dream</td>\n      <td>71.0</td>\n      <td>6.5</td>\n      <td>1988</td>\n      <td>28176</td>\n      <td>3.254798</td>\n    </tr>\n    <tr>\n      <th>1312</th>\n      <td>Dracula</td>\n      <td>1087.0</td>\n      <td>7.1</td>\n      <td>1992</td>\n      <td>6114</td>\n      <td>3.245694</td>\n    </tr>\n    <tr>\n      <th>14219</th>\n      <td>Tetro</td>\n      <td>49.0</td>\n      <td>6.7</td>\n      <td>2009</td>\n      <td>11928</td>\n      <td>3.241373</td>\n    </tr>\n    <tr>\n      <th>2025</th>\n      <td>The Outsiders</td>\n      <td>293.0</td>\n      <td>6.9</td>\n      <td>1983</td>\n      <td>227</td>\n      <td>3.180590</td>\n    </tr>\n    <tr>\n      <th>23540</th>\n      <td>Hide in Plain Sight</td>\n      <td>3.0</td>\n      <td>5.8</td>\n      <td>1980</td>\n      <td>48949</td>\n      <td>3.164419</td>\n    </tr>\n    <tr>\n      <th>4602</th>\n      <td>The Cotton Club</td>\n      <td>71.0</td>\n      <td>6.5</td>\n      <td>1984</td>\n      <td>2148</td>\n      <td>3.022531</td>\n    </tr>\n    <tr>\n      <th>2376</th>\n      <td>Peggy Sue Got Married</td>\n      <td>138.0</td>\n      <td>5.9</td>\n      <td>1986</td>\n      <td>10013</td>\n      <td>3.001706</td>\n    </tr>\n    <tr>\n      <th>7750</th>\n      <td>You're a Big Boy Now</td>\n      <td>13.0</td>\n      <td>5.9</td>\n      <td>1966</td>\n      <td>42728</td>\n      <td>2.994693</td>\n    </tr>\n    <tr>\n      <th>4012</th>\n      <td>Gardens of Stone</td>\n      <td>25.0</td>\n      <td>5.5</td>\n      <td>1987</td>\n      <td>28368</td>\n      <td>2.989282</td>\n    </tr>\n    <tr>\n      <th>12614</th>\n      <td>Youth Without Youth</td>\n      <td>47.0</td>\n      <td>6.5</td>\n      <td>2007</td>\n      <td>7797</td>\n      <td>2.929398</td>\n    </tr>\n    <tr>\n      <th>6040</th>\n      <td>One from the Heart</td>\n      <td>20.0</td>\n      <td>5.6</td>\n      <td>1982</td>\n      <td>41291</td>\n      <td>2.830235</td>\n    </tr>\n    <tr>\n      <th>9937</th>\n      <td>Finian's Rainbow</td>\n      <td>13.0</td>\n      <td>5.3</td>\n      <td>1968</td>\n      <td>42622</td>\n      <td>2.811516</td>\n    </tr>\n    <tr>\n      <th>15609</th>\n      <td>The Rain People</td>\n      <td>10.0</td>\n      <td>5.5</td>\n      <td>1969</td>\n      <td>59231</td>\n      <td>2.773241</td>\n    </tr>\n    <tr>\n      <th>6319</th>\n      <td>Dementia 13</td>\n      <td>24.0</td>\n      <td>5.4</td>\n      <td>1963</td>\n      <td>28503</td>\n      <td>2.709927</td>\n    </tr>\n    <tr>\n      <th>23143</th>\n      <td>Captain EO</td>\n      <td>26.0</td>\n      <td>6.2</td>\n      <td>1986</td>\n      <td>19492</td>\n      <td>2.582492</td>\n    </tr>\n    <tr>\n      <th>17765</th>\n      <td>Twixt</td>\n      <td>86.0</td>\n      <td>5.0</td>\n      <td>2011</td>\n      <td>78381</td>\n      <td>2.512443</td>\n    </tr>\n    <tr>\n      <th>754</th>\n      <td>Jack</td>\n      <td>340.0</td>\n      <td>5.9</td>\n      <td>1996</td>\n      <td>7095</td>\n      <td>2.394898</td>\n    </tr>\n  </tbody>\n</table>\n</div>"
     },
     "metadata": {},
     "execution_count": 81
    }
   ],
   "source": [
    "hybrid(3000, 'The Godfather')                # this are the best possible recommendations based on a particular user"
   ]
  },
  {
   "cell_type": "code",
   "execution_count": null,
   "metadata": {},
   "outputs": [],
   "source": []
  }
 ]
}